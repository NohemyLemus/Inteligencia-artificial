{
 "cells": [
  {
<<<<<<< HEAD
<<<<<<< HEAD
=======
>>>>>>> develop
   "cell_type": "markdown",
   "metadata": {},
   "source": [
    "# Importando Librerias Necesarias"
   ]
  },
  {
<<<<<<< HEAD
   "cell_type": "code",
   "execution_count": 79,
=======
   "cell_type": "code",
   "execution_count": 2,
>>>>>>> a1adfdf727735d89771bdb22e1384d718aacab86
=======
   "cell_type": "code",
   "execution_count": 59,
>>>>>>> develop
   "metadata": {},
   "outputs": [],
   "source": [
    "import pandas as pd\n",
    "import numpy as np\n",
    "\n",
    "import random\n",
    "from pprint import pprint\n",
    "%matplotlib inline\n",
    "\n",
    "from funciones_arbol import algoritmo_arbol, prediccion_arbol_decision\n",
    "from funciones_apoyo import entrenamiento_prueba_split, calcular_precision"
   ]
  },
  {
<<<<<<< HEAD
<<<<<<< HEAD
   "cell_type": "markdown",
   "metadata": {},
   "source": [
    "# Preparando los datos"
   ]
  },
  {
   "cell_type": "code",
   "execution_count": 80,
=======
   "cell_type": "code",
   "execution_count": 3,
>>>>>>> a1adfdf727735d89771bdb22e1384d718aacab86
=======
   "cell_type": "markdown",
   "metadata": {},
   "source": [
    "# Preparando los Datos "
   ]
  },
  {
   "cell_type": "code",
   "execution_count": 60,
>>>>>>> develop
   "metadata": {},
   "outputs": [],
   "source": [
    "df_vino = pd.read_csv('../data/winequality-red.csv')\n",
    "df_vino['label'] = df_vino.quality\n",
<<<<<<< HEAD
<<<<<<< HEAD
=======
>>>>>>> develop
    "df_vino = df_vino.drop('quality', axis=1)\n",
    "\n",
    "column_names = []\n",
    "for column in df_vino.columns:\n",
    "    name = column.replace(' ',\"_\")\n",
    "    column_names.append(name)\n",
    "df_vino.columns = column_names"
   ]
  },
  {
   "cell_type": "code",
<<<<<<< HEAD
   "execution_count": 81,
=======
   "execution_count": 61,
>>>>>>> develop
   "metadata": {},
   "outputs": [
    {
     "data": {
      "text/html": [
       "<div>\n",
       "<style scoped>\n",
       "    .dataframe tbody tr th:only-of-type {\n",
       "        vertical-align: middle;\n",
       "    }\n",
       "\n",
       "    .dataframe tbody tr th {\n",
       "        vertical-align: top;\n",
       "    }\n",
       "\n",
       "    .dataframe thead th {\n",
       "        text-align: right;\n",
       "    }\n",
       "</style>\n",
       "<table border=\"1\" class=\"dataframe\">\n",
       "  <thead>\n",
       "    <tr style=\"text-align: right;\">\n",
       "      <th></th>\n",
       "      <th>fixed_acidity</th>\n",
       "      <th>volatile_acidity</th>\n",
       "      <th>citric_acid</th>\n",
       "      <th>residual_sugar</th>\n",
       "      <th>chlorides</th>\n",
       "      <th>free_sulfur_dioxide</th>\n",
       "      <th>total_sulfur_dioxide</th>\n",
       "      <th>density</th>\n",
       "      <th>pH</th>\n",
       "      <th>sulphates</th>\n",
       "      <th>alcohol</th>\n",
       "      <th>label</th>\n",
       "    </tr>\n",
       "  </thead>\n",
       "  <tbody>\n",
       "    <tr>\n",
<<<<<<< HEAD
       "      <td>0</td>\n",
=======
       "      <th>0</th>\n",
>>>>>>> develop
       "      <td>7.4</td>\n",
       "      <td>0.70</td>\n",
       "      <td>0.00</td>\n",
       "      <td>1.9</td>\n",
       "      <td>0.076</td>\n",
       "      <td>11.0</td>\n",
       "      <td>34.0</td>\n",
       "      <td>0.9978</td>\n",
       "      <td>3.51</td>\n",
       "      <td>0.56</td>\n",
       "      <td>9.4</td>\n",
       "      <td>5</td>\n",
       "    </tr>\n",
       "    <tr>\n",
<<<<<<< HEAD
       "      <td>1</td>\n",
=======
       "      <th>1</th>\n",
>>>>>>> develop
       "      <td>7.8</td>\n",
       "      <td>0.88</td>\n",
       "      <td>0.00</td>\n",
       "      <td>2.6</td>\n",
       "      <td>0.098</td>\n",
       "      <td>25.0</td>\n",
       "      <td>67.0</td>\n",
       "      <td>0.9968</td>\n",
       "      <td>3.20</td>\n",
       "      <td>0.68</td>\n",
       "      <td>9.8</td>\n",
       "      <td>5</td>\n",
       "    </tr>\n",
       "    <tr>\n",
<<<<<<< HEAD
       "      <td>2</td>\n",
=======
       "      <th>2</th>\n",
>>>>>>> develop
       "      <td>7.8</td>\n",
       "      <td>0.76</td>\n",
       "      <td>0.04</td>\n",
       "      <td>2.3</td>\n",
       "      <td>0.092</td>\n",
       "      <td>15.0</td>\n",
       "      <td>54.0</td>\n",
       "      <td>0.9970</td>\n",
       "      <td>3.26</td>\n",
       "      <td>0.65</td>\n",
       "      <td>9.8</td>\n",
       "      <td>5</td>\n",
       "    </tr>\n",
       "    <tr>\n",
<<<<<<< HEAD
       "      <td>3</td>\n",
=======
       "      <th>3</th>\n",
>>>>>>> develop
       "      <td>11.2</td>\n",
       "      <td>0.28</td>\n",
       "      <td>0.56</td>\n",
       "      <td>1.9</td>\n",
       "      <td>0.075</td>\n",
       "      <td>17.0</td>\n",
       "      <td>60.0</td>\n",
       "      <td>0.9980</td>\n",
       "      <td>3.16</td>\n",
       "      <td>0.58</td>\n",
       "      <td>9.8</td>\n",
       "      <td>6</td>\n",
       "    </tr>\n",
       "    <tr>\n",
<<<<<<< HEAD
       "      <td>4</td>\n",
=======
       "      <th>4</th>\n",
>>>>>>> develop
       "      <td>7.4</td>\n",
       "      <td>0.70</td>\n",
       "      <td>0.00</td>\n",
       "      <td>1.9</td>\n",
       "      <td>0.076</td>\n",
       "      <td>11.0</td>\n",
       "      <td>34.0</td>\n",
       "      <td>0.9978</td>\n",
       "      <td>3.51</td>\n",
       "      <td>0.56</td>\n",
       "      <td>9.4</td>\n",
       "      <td>5</td>\n",
       "    </tr>\n",
       "  </tbody>\n",
       "</table>\n",
       "</div>"
      ],
      "text/plain": [
       "   fixed_acidity  volatile_acidity  citric_acid  residual_sugar  chlorides  \\\n",
       "0            7.4              0.70         0.00             1.9      0.076   \n",
       "1            7.8              0.88         0.00             2.6      0.098   \n",
       "2            7.8              0.76         0.04             2.3      0.092   \n",
       "3           11.2              0.28         0.56             1.9      0.075   \n",
       "4            7.4              0.70         0.00             1.9      0.076   \n",
       "\n",
       "   free_sulfur_dioxide  total_sulfur_dioxide  density    pH  sulphates  \\\n",
       "0                 11.0                  34.0   0.9978  3.51       0.56   \n",
       "1                 25.0                  67.0   0.9968  3.20       0.68   \n",
       "2                 15.0                  54.0   0.9970  3.26       0.65   \n",
       "3                 17.0                  60.0   0.9980  3.16       0.58   \n",
       "4                 11.0                  34.0   0.9978  3.51       0.56   \n",
       "\n",
       "   alcohol  label  \n",
       "0      9.4      5  \n",
       "1      9.8      5  \n",
       "2      9.8      5  \n",
       "3      9.8      6  \n",
       "4      9.4      5  "
      ]
     },
<<<<<<< HEAD
     "execution_count": 81,
=======
     "execution_count": 61,
>>>>>>> develop
     "metadata": {},
     "output_type": "execute_result"
    }
   ],
   "source": [
    "df_vino.head()"
   ]
  },
  {
   "cell_type": "code",
<<<<<<< HEAD
   "execution_count": 82,
=======
   "execution_count": 62,
>>>>>>> develop
   "metadata": {},
   "outputs": [
    {
     "data": {
      "text/html": [
       "<div>\n",
       "<style scoped>\n",
       "    .dataframe tbody tr th:only-of-type {\n",
       "        vertical-align: middle;\n",
       "    }\n",
       "\n",
       "    .dataframe tbody tr th {\n",
       "        vertical-align: top;\n",
       "    }\n",
       "\n",
       "    .dataframe thead th {\n",
       "        text-align: right;\n",
       "    }\n",
       "</style>\n",
       "<table border=\"1\" class=\"dataframe\">\n",
       "  <thead>\n",
       "    <tr style=\"text-align: right;\">\n",
       "      <th></th>\n",
       "      <th>fixed_acidity</th>\n",
       "      <th>volatile_acidity</th>\n",
       "      <th>citric_acid</th>\n",
       "      <th>residual_sugar</th>\n",
       "      <th>chlorides</th>\n",
       "      <th>free_sulfur_dioxide</th>\n",
       "      <th>total_sulfur_dioxide</th>\n",
       "      <th>density</th>\n",
       "      <th>pH</th>\n",
       "      <th>sulphates</th>\n",
       "      <th>alcohol</th>\n",
       "      <th>label</th>\n",
       "    </tr>\n",
       "  </thead>\n",
       "  <tbody>\n",
       "    <tr>\n",
<<<<<<< HEAD
       "      <td>0</td>\n",
=======
       "      <th>0</th>\n",
>>>>>>> develop
       "      <td>7.4</td>\n",
       "      <td>0.70</td>\n",
       "      <td>0.00</td>\n",
       "      <td>1.9</td>\n",
       "      <td>0.076</td>\n",
       "      <td>11.0</td>\n",
       "      <td>34.0</td>\n",
       "      <td>0.9978</td>\n",
       "      <td>3.51</td>\n",
       "      <td>0.56</td>\n",
       "      <td>9.4</td>\n",
<<<<<<< HEAD
       "      <td>Malo</td>\n",
       "    </tr>\n",
       "    <tr>\n",
       "      <td>1</td>\n",
=======
       "      <td>malo</td>\n",
       "    </tr>\n",
       "    <tr>\n",
       "      <th>1</th>\n",
>>>>>>> develop
       "      <td>7.8</td>\n",
       "      <td>0.88</td>\n",
       "      <td>0.00</td>\n",
       "      <td>2.6</td>\n",
       "      <td>0.098</td>\n",
       "      <td>25.0</td>\n",
       "      <td>67.0</td>\n",
       "      <td>0.9968</td>\n",
       "      <td>3.20</td>\n",
       "      <td>0.68</td>\n",
       "      <td>9.8</td>\n",
<<<<<<< HEAD
       "      <td>Malo</td>\n",
       "    </tr>\n",
       "    <tr>\n",
       "      <td>2</td>\n",
=======
       "      <td>malo</td>\n",
       "    </tr>\n",
       "    <tr>\n",
       "      <th>2</th>\n",
>>>>>>> develop
       "      <td>7.8</td>\n",
       "      <td>0.76</td>\n",
       "      <td>0.04</td>\n",
       "      <td>2.3</td>\n",
       "      <td>0.092</td>\n",
       "      <td>15.0</td>\n",
       "      <td>54.0</td>\n",
       "      <td>0.9970</td>\n",
       "      <td>3.26</td>\n",
       "      <td>0.65</td>\n",
       "      <td>9.8</td>\n",
<<<<<<< HEAD
       "      <td>Malo</td>\n",
       "    </tr>\n",
       "    <tr>\n",
       "      <td>3</td>\n",
=======
       "      <td>malo</td>\n",
       "    </tr>\n",
       "    <tr>\n",
       "      <th>3</th>\n",
>>>>>>> develop
       "      <td>11.2</td>\n",
       "      <td>0.28</td>\n",
       "      <td>0.56</td>\n",
       "      <td>1.9</td>\n",
       "      <td>0.075</td>\n",
       "      <td>17.0</td>\n",
       "      <td>60.0</td>\n",
       "      <td>0.9980</td>\n",
       "      <td>3.16</td>\n",
       "      <td>0.58</td>\n",
       "      <td>9.8</td>\n",
<<<<<<< HEAD
       "      <td>Bueno</td>\n",
       "    </tr>\n",
       "    <tr>\n",
       "      <td>4</td>\n",
=======
       "      <td>bueno</td>\n",
       "    </tr>\n",
       "    <tr>\n",
       "      <th>4</th>\n",
>>>>>>> develop
       "      <td>7.4</td>\n",
       "      <td>0.70</td>\n",
       "      <td>0.00</td>\n",
       "      <td>1.9</td>\n",
       "      <td>0.076</td>\n",
       "      <td>11.0</td>\n",
       "      <td>34.0</td>\n",
       "      <td>0.9978</td>\n",
       "      <td>3.51</td>\n",
       "      <td>0.56</td>\n",
       "      <td>9.4</td>\n",
<<<<<<< HEAD
       "      <td>Malo</td>\n",
=======
       "      <td>malo</td>\n",
>>>>>>> develop
       "    </tr>\n",
       "  </tbody>\n",
       "</table>\n",
       "</div>"
      ],
      "text/plain": [
       "   fixed_acidity  volatile_acidity  citric_acid  residual_sugar  chlorides  \\\n",
       "0            7.4              0.70         0.00             1.9      0.076   \n",
       "1            7.8              0.88         0.00             2.6      0.098   \n",
       "2            7.8              0.76         0.04             2.3      0.092   \n",
       "3           11.2              0.28         0.56             1.9      0.075   \n",
       "4            7.4              0.70         0.00             1.9      0.076   \n",
       "\n",
       "   free_sulfur_dioxide  total_sulfur_dioxide  density    pH  sulphates  \\\n",
       "0                 11.0                  34.0   0.9978  3.51       0.56   \n",
       "1                 25.0                  67.0   0.9968  3.20       0.68   \n",
       "2                 15.0                  54.0   0.9970  3.26       0.65   \n",
       "3                 17.0                  60.0   0.9980  3.16       0.58   \n",
       "4                 11.0                  34.0   0.9978  3.51       0.56   \n",
       "\n",
       "   alcohol  label  \n",
<<<<<<< HEAD
       "0      9.4   Malo  \n",
       "1      9.8   Malo  \n",
       "2      9.8   Malo  \n",
       "3      9.8  Bueno  \n",
       "4      9.4   Malo  "
      ]
     },
     "execution_count": 82,
=======
       "0      9.4   malo  \n",
       "1      9.8   malo  \n",
       "2      9.8   malo  \n",
       "3      9.8  bueno  \n",
       "4      9.4   malo  "
      ]
     },
     "execution_count": 62,
>>>>>>> develop
     "metadata": {},
     "output_type": "execute_result"
    }
   ],
   "source": [
    "def transformar_label(valor):\n",
    "    if valor <= 5:\n",
<<<<<<< HEAD
    "        return 'Malo' \n",
    "    else:\n",
    "        return 'Bueno'\n",
=======
    "        return 'malo'\n",
    "    else:\n",
    "        return 'bueno'\n",
>>>>>>> develop
    "df_vino['label'] = df_vino.label.apply(transformar_label)\n",
    "\n",
    "df_vino.head()"
   ]
  },
  {
   "cell_type": "code",
<<<<<<< HEAD
   "execution_count": 83,
=======
   "execution_count": 63,
>>>>>>> develop
   "metadata": {},
   "outputs": [
    {
     "data": {
      "text/plain": [
<<<<<<< HEAD
       "Bueno    0.534709\n",
       "Malo     0.465291\n",
       "Name: label, dtype: float64"
      ]
     },
     "execution_count": 83,
=======
       "bueno    0.534709\n",
       "malo     0.465291\n",
       "Name: label, dtype: float64"
      ]
     },
     "execution_count": 63,
>>>>>>> develop
     "metadata": {},
     "output_type": "execute_result"
    },
    {
     "data": {
<<<<<<< HEAD
      "image/png": "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\n",
=======
      "image/png": "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\n",
>>>>>>> develop
      "text/plain": [
       "<Figure size 432x288 with 1 Axes>"
      ]
     },
     "metadata": {
      "needs_background": "light"
     },
     "output_type": "display_data"
    }
   ],
   "source": [
<<<<<<< HEAD
    "calidad_vino = df_vino.label.value_counts(normalize = True)\n",
    "calidad_vino[['Malo', 'Bueno']].plot(kind='bar')\n",
=======
    "calidad_vino = df_vino.label.value_counts(normalize=True)\n",
    "calidad_vino[['malo','bueno']].plot(kind='bar')\n",
>>>>>>> develop
    "calidad_vino"
   ]
  },
  {
   "cell_type": "code",
<<<<<<< HEAD
   "execution_count": 84,
=======
   "execution_count": 64,
>>>>>>> develop
   "metadata": {},
   "outputs": [
    {
     "data": {
      "text/html": [
       "<div>\n",
       "<style scoped>\n",
       "    .dataframe tbody tr th:only-of-type {\n",
       "        vertical-align: middle;\n",
       "    }\n",
       "\n",
       "    .dataframe tbody tr th {\n",
       "        vertical-align: top;\n",
       "    }\n",
       "\n",
       "    .dataframe thead th {\n",
       "        text-align: right;\n",
       "    }\n",
       "</style>\n",
       "<table border=\"1\" class=\"dataframe\">\n",
       "  <thead>\n",
       "    <tr style=\"text-align: right;\">\n",
       "      <th></th>\n",
       "      <th>fixed_acidity</th>\n",
       "      <th>volatile_acidity</th>\n",
       "      <th>citric_acid</th>\n",
       "      <th>residual_sugar</th>\n",
       "      <th>chlorides</th>\n",
       "      <th>free_sulfur_dioxide</th>\n",
       "      <th>total_sulfur_dioxide</th>\n",
       "      <th>density</th>\n",
       "      <th>pH</th>\n",
       "      <th>sulphates</th>\n",
       "      <th>alcohol</th>\n",
       "      <th>label</th>\n",
       "    </tr>\n",
       "  </thead>\n",
       "  <tbody>\n",
       "    <tr>\n",
<<<<<<< HEAD
       "      <td>788</td>\n",
=======
       "      <th>788</th>\n",
>>>>>>> develop
       "      <td>10.0</td>\n",
       "      <td>0.560</td>\n",
       "      <td>0.24</td>\n",
       "      <td>2.2</td>\n",
       "      <td>0.079</td>\n",
       "      <td>19.0</td>\n",
       "      <td>58.0</td>\n",
       "      <td>0.99910</td>\n",
       "      <td>3.18</td>\n",
       "      <td>0.56</td>\n",
       "      <td>10.1</td>\n",
<<<<<<< HEAD
       "      <td>Bueno</td>\n",
       "    </tr>\n",
       "    <tr>\n",
       "      <td>1552</td>\n",
=======
       "      <td>bueno</td>\n",
       "    </tr>\n",
       "    <tr>\n",
       "      <th>1552</th>\n",
>>>>>>> develop
       "      <td>6.3</td>\n",
       "      <td>0.680</td>\n",
       "      <td>0.01</td>\n",
       "      <td>3.7</td>\n",
       "      <td>0.103</td>\n",
       "      <td>32.0</td>\n",
       "      <td>54.0</td>\n",
       "      <td>0.99586</td>\n",
       "      <td>3.51</td>\n",
       "      <td>0.66</td>\n",
       "      <td>11.3</td>\n",
<<<<<<< HEAD
       "      <td>Bueno</td>\n",
       "    </tr>\n",
       "    <tr>\n",
       "      <td>861</td>\n",
=======
       "      <td>bueno</td>\n",
       "    </tr>\n",
       "    <tr>\n",
       "      <th>861</th>\n",
>>>>>>> develop
       "      <td>5.8</td>\n",
       "      <td>1.010</td>\n",
       "      <td>0.66</td>\n",
       "      <td>2.0</td>\n",
       "      <td>0.039</td>\n",
       "      <td>15.0</td>\n",
       "      <td>88.0</td>\n",
       "      <td>0.99357</td>\n",
       "      <td>3.66</td>\n",
       "      <td>0.60</td>\n",
       "      <td>11.5</td>\n",
<<<<<<< HEAD
       "      <td>Bueno</td>\n",
       "    </tr>\n",
       "    <tr>\n",
       "      <td>82</td>\n",
=======
       "      <td>bueno</td>\n",
       "    </tr>\n",
       "    <tr>\n",
       "      <th>82</th>\n",
>>>>>>> develop
       "      <td>7.4</td>\n",
       "      <td>0.500</td>\n",
       "      <td>0.47</td>\n",
       "      <td>2.0</td>\n",
       "      <td>0.086</td>\n",
       "      <td>21.0</td>\n",
       "      <td>73.0</td>\n",
       "      <td>0.99700</td>\n",
       "      <td>3.36</td>\n",
       "      <td>0.57</td>\n",
       "      <td>9.1</td>\n",
<<<<<<< HEAD
       "      <td>Malo</td>\n",
       "    </tr>\n",
       "    <tr>\n",
       "      <td>530</td>\n",
=======
       "      <td>malo</td>\n",
       "    </tr>\n",
       "    <tr>\n",
       "      <th>530</th>\n",
>>>>>>> develop
       "      <td>9.1</td>\n",
       "      <td>0.220</td>\n",
       "      <td>0.24</td>\n",
       "      <td>2.1</td>\n",
       "      <td>0.078</td>\n",
       "      <td>1.0</td>\n",
       "      <td>28.0</td>\n",
       "      <td>0.99900</td>\n",
       "      <td>3.41</td>\n",
       "      <td>0.87</td>\n",
       "      <td>10.3</td>\n",
<<<<<<< HEAD
       "      <td>Bueno</td>\n",
       "    </tr>\n",
       "    <tr>\n",
       "      <td>...</td>\n",
=======
       "      <td>bueno</td>\n",
       "    </tr>\n",
       "    <tr>\n",
       "      <th>...</th>\n",
>>>>>>> develop
       "      <td>...</td>\n",
       "      <td>...</td>\n",
       "      <td>...</td>\n",
       "      <td>...</td>\n",
       "      <td>...</td>\n",
       "      <td>...</td>\n",
       "      <td>...</td>\n",
       "      <td>...</td>\n",
       "      <td>...</td>\n",
       "      <td>...</td>\n",
       "      <td>...</td>\n",
       "      <td>...</td>\n",
       "    </tr>\n",
       "    <tr>\n",
<<<<<<< HEAD
       "      <td>562</td>\n",
=======
       "      <th>562</th>\n",
>>>>>>> develop
       "      <td>9.0</td>\n",
       "      <td>0.540</td>\n",
       "      <td>0.49</td>\n",
       "      <td>2.9</td>\n",
       "      <td>0.094</td>\n",
       "      <td>41.0</td>\n",
       "      <td>110.0</td>\n",
       "      <td>0.99820</td>\n",
       "      <td>3.08</td>\n",
       "      <td>0.61</td>\n",
       "      <td>9.2</td>\n",
<<<<<<< HEAD
       "      <td>Malo</td>\n",
       "    </tr>\n",
       "    <tr>\n",
       "      <td>927</td>\n",
=======
       "      <td>malo</td>\n",
       "    </tr>\n",
       "    <tr>\n",
       "      <th>927</th>\n",
>>>>>>> develop
       "      <td>8.4</td>\n",
       "      <td>0.670</td>\n",
       "      <td>0.19</td>\n",
       "      <td>2.2</td>\n",
       "      <td>0.093</td>\n",
       "      <td>11.0</td>\n",
       "      <td>75.0</td>\n",
       "      <td>0.99736</td>\n",
       "      <td>3.20</td>\n",
       "      <td>0.59</td>\n",
       "      <td>9.2</td>\n",
<<<<<<< HEAD
       "      <td>Malo</td>\n",
       "    </tr>\n",
       "    <tr>\n",
       "      <td>525</td>\n",
=======
       "      <td>malo</td>\n",
       "    </tr>\n",
       "    <tr>\n",
       "      <th>525</th>\n",
>>>>>>> develop
       "      <td>10.4</td>\n",
       "      <td>0.640</td>\n",
       "      <td>0.24</td>\n",
       "      <td>2.8</td>\n",
       "      <td>0.105</td>\n",
       "      <td>29.0</td>\n",
       "      <td>53.0</td>\n",
       "      <td>0.99980</td>\n",
       "      <td>3.24</td>\n",
       "      <td>0.67</td>\n",
       "      <td>9.9</td>\n",
<<<<<<< HEAD
       "      <td>Malo</td>\n",
       "    </tr>\n",
       "    <tr>\n",
       "      <td>273</td>\n",
=======
       "      <td>malo</td>\n",
       "    </tr>\n",
       "    <tr>\n",
       "      <th>273</th>\n",
>>>>>>> develop
       "      <td>8.4</td>\n",
       "      <td>0.715</td>\n",
       "      <td>0.20</td>\n",
       "      <td>2.4</td>\n",
       "      <td>0.076</td>\n",
       "      <td>10.0</td>\n",
       "      <td>38.0</td>\n",
       "      <td>0.99735</td>\n",
       "      <td>3.31</td>\n",
       "      <td>0.64</td>\n",
       "      <td>9.4</td>\n",
<<<<<<< HEAD
       "      <td>Malo</td>\n",
       "    </tr>\n",
       "    <tr>\n",
       "      <td>1338</td>\n",
=======
       "      <td>malo</td>\n",
       "    </tr>\n",
       "    <tr>\n",
       "      <th>1338</th>\n",
>>>>>>> develop
       "      <td>6.0</td>\n",
       "      <td>0.500</td>\n",
       "      <td>0.00</td>\n",
       "      <td>1.4</td>\n",
       "      <td>0.057</td>\n",
       "      <td>15.0</td>\n",
       "      <td>26.0</td>\n",
       "      <td>0.99448</td>\n",
       "      <td>3.36</td>\n",
       "      <td>0.45</td>\n",
       "      <td>9.5</td>\n",
<<<<<<< HEAD
       "      <td>Malo</td>\n",
=======
       "      <td>malo</td>\n",
>>>>>>> develop
       "    </tr>\n",
       "  </tbody>\n",
       "</table>\n",
       "<p>320 rows × 12 columns</p>\n",
       "</div>"
      ],
      "text/plain": [
       "      fixed_acidity  volatile_acidity  citric_acid  residual_sugar  chlorides  \\\n",
       "788            10.0             0.560         0.24             2.2      0.079   \n",
       "1552            6.3             0.680         0.01             3.7      0.103   \n",
       "861             5.8             1.010         0.66             2.0      0.039   \n",
       "82              7.4             0.500         0.47             2.0      0.086   \n",
       "530             9.1             0.220         0.24             2.1      0.078   \n",
       "...             ...               ...          ...             ...        ...   \n",
       "562             9.0             0.540         0.49             2.9      0.094   \n",
       "927             8.4             0.670         0.19             2.2      0.093   \n",
       "525            10.4             0.640         0.24             2.8      0.105   \n",
       "273             8.4             0.715         0.20             2.4      0.076   \n",
       "1338            6.0             0.500         0.00             1.4      0.057   \n",
       "\n",
       "      free_sulfur_dioxide  total_sulfur_dioxide  density    pH  sulphates  \\\n",
       "788                  19.0                  58.0  0.99910  3.18       0.56   \n",
       "1552                 32.0                  54.0  0.99586  3.51       0.66   \n",
       "861                  15.0                  88.0  0.99357  3.66       0.60   \n",
       "82                   21.0                  73.0  0.99700  3.36       0.57   \n",
       "530                   1.0                  28.0  0.99900  3.41       0.87   \n",
       "...                   ...                   ...      ...   ...        ...   \n",
       "562                  41.0                 110.0  0.99820  3.08       0.61   \n",
       "927                  11.0                  75.0  0.99736  3.20       0.59   \n",
       "525                  29.0                  53.0  0.99980  3.24       0.67   \n",
       "273                  10.0                  38.0  0.99735  3.31       0.64   \n",
       "1338                 15.0                  26.0  0.99448  3.36       0.45   \n",
       "\n",
       "      alcohol  label  \n",
<<<<<<< HEAD
       "788      10.1  Bueno  \n",
       "1552     11.3  Bueno  \n",
       "861      11.5  Bueno  \n",
       "82        9.1   Malo  \n",
       "530      10.3  Bueno  \n",
       "...       ...    ...  \n",
       "562       9.2   Malo  \n",
       "927       9.2   Malo  \n",
       "525       9.9   Malo  \n",
       "273       9.4   Malo  \n",
       "1338      9.5   Malo  \n",
=======
       "788      10.1  bueno  \n",
       "1552     11.3  bueno  \n",
       "861      11.5  bueno  \n",
       "82        9.1   malo  \n",
       "530      10.3  bueno  \n",
       "...       ...    ...  \n",
       "562       9.2   malo  \n",
       "927       9.2   malo  \n",
       "525       9.9   malo  \n",
       "273       9.4   malo  \n",
       "1338      9.5   malo  \n",
>>>>>>> develop
       "\n",
       "[320 rows x 12 columns]"
      ]
     },
<<<<<<< HEAD
     "execution_count": 84,
=======
     "execution_count": 64,
>>>>>>> develop
     "metadata": {},
     "output_type": "execute_result"
    }
   ],
   "source": [
    "random.seed(0)\n",
<<<<<<< HEAD
    "df_entrenamiento, df_prueba = entrenamiento_prueba_split(df_vino, tamanio_prueba = 0.2)\n",
=======
    "df_entrenamiento, df_prueba = entrenamiento_prueba_split(df_vino, tamanio_prueba=0.2)\n",
>>>>>>> develop
    "df_prueba"
   ]
  },
  {
   "cell_type": "markdown",
   "metadata": {},
   "source": [
<<<<<<< HEAD
    "## Algoritmo de bosque aleatorio"
=======
    "# Algoritmo de Bosque Aleatorio"
>>>>>>> develop
   ]
  },
  {
   "cell_type": "code",
<<<<<<< HEAD
   "execution_count": 85,
=======
   "execution_count": 65,
>>>>>>> develop
   "metadata": {},
   "outputs": [],
   "source": [
    "def bootstrapping(df_entrenamiento, n_bootstrap):\n",
    "    bootstrap_indices = np.random.randint(low=0, high=len(df_entrenamiento), size=n_bootstrap)\n",
    "    df_bootstrapped = df_entrenamiento.iloc[bootstrap_indices]\n",
    "    \n",
    "    return df_bootstrapped\n",
    "\n",
    "def algoritmo_bosque_aleatorio(df_entrenamiento, n_arboles, n_bootstraps, n_caracteristicas, ad_max_profundidad):\n",
    "    bosque = []\n",
    "    for i in range(n_arboles):\n",
    "        df_bootstrapped = bootstrapping(df_entrenamiento, n_bootstraps)\n",
    "        arbol = algoritmo_arbol(df_bootstrapped, max_profundidad=ad_max_profundidad, random_subespacio=n_caracteristicas)\n",
    "        bosque.append(arbol)\n",
    "    return bosque\n",
    "\n",
    "def predicciones_bosque_aleatorio(df_prueba, bosque):\n",
    "    df_predicciones = {}\n",
    "    for i in range(len(bosque)):\n",
    "        columna_nombre = 'arbol_{}'.format(i)\n",
    "        predicciones = prediccion_arbol_decision(df_prueba, arbol = bosque[i])\n",
    "        df_predicciones[columna_nombre] = predicciones\n",
    "        df_predicciones = pd.DataFrame(df_predicciones)\n",
    "        predicciones_bosque_aleatorio = df_predicciones.mode(axis=1)[0]\n",
    "    return predicciones_bosque_aleatorio, df_predicciones"
   ]
  },
  {
<<<<<<< HEAD
   "cell_type": "code",
   "execution_count": 86,
   "metadata": {},
   "outputs": [],
   "source": [
    "bosque = algoritmo_bosque_aleatorio"
=======
   "cell_type": "markdown",
   "metadata": {},
   "source": [
    "# Probando el Algoritmo"
   ]
  },
  {
   "cell_type": "markdown",
   "metadata": {},
   "source": [
    "## Generamos el Bosque Aleatorio"
   ]
  },
  {
   "cell_type": "code",
   "execution_count": 66,
   "metadata": {},
   "outputs": [],
   "source": [
    "bosque = algoritmo_bosque_aleatorio(df_entrenamiento, n_arboles=4, n_bootstraps=800, n_caracteristicas=4, ad_max_profundidad=4)\n"
   ]
  },
  {
   "cell_type": "markdown",
   "metadata": {},
   "source": [
    "## Verificamos las predicciones obtenidas"
>>>>>>> develop
   ]
  },
  {
   "cell_type": "code",
<<<<<<< HEAD
   "execution_count": 87,
   "metadata": {},
   "outputs": [
    {
     "ename": "TypeError",
     "evalue": "object of type 'function' has no len()",
     "output_type": "error",
     "traceback": [
      "\u001b[1;31m---------------------------------------------------------------------------\u001b[0m",
      "\u001b[1;31mTypeError\u001b[0m                                 Traceback (most recent call last)",
      "\u001b[1;32m<ipython-input-87-0834a008e774>\u001b[0m in \u001b[0;36m<module>\u001b[1;34m\u001b[0m\n\u001b[1;32m----> 1\u001b[1;33m \u001b[0mpredicciones\u001b[0m\u001b[1;33m,\u001b[0m \u001b[0mdf_predicciones\u001b[0m \u001b[1;33m=\u001b[0m \u001b[0mpredicciones_bosque_aleatorio\u001b[0m\u001b[1;33m(\u001b[0m\u001b[0mdf_prueba\u001b[0m\u001b[1;33m,\u001b[0m \u001b[0mbosque\u001b[0m\u001b[1;33m)\u001b[0m\u001b[1;33m\u001b[0m\u001b[1;33m\u001b[0m\u001b[0m\n\u001b[0m",
      "\u001b[1;32m<ipython-input-85-386fe6e29159>\u001b[0m in \u001b[0;36mpredicciones_bosque_aleatorio\u001b[1;34m(df_prueba, bosque)\u001b[0m\n\u001b[0;32m     15\u001b[0m \u001b[1;32mdef\u001b[0m \u001b[0mpredicciones_bosque_aleatorio\u001b[0m\u001b[1;33m(\u001b[0m\u001b[0mdf_prueba\u001b[0m\u001b[1;33m,\u001b[0m \u001b[0mbosque\u001b[0m\u001b[1;33m)\u001b[0m\u001b[1;33m:\u001b[0m\u001b[1;33m\u001b[0m\u001b[1;33m\u001b[0m\u001b[0m\n\u001b[0;32m     16\u001b[0m     \u001b[0mdf_predicciones\u001b[0m \u001b[1;33m=\u001b[0m \u001b[1;33m{\u001b[0m\u001b[1;33m}\u001b[0m\u001b[1;33m\u001b[0m\u001b[1;33m\u001b[0m\u001b[0m\n\u001b[1;32m---> 17\u001b[1;33m     \u001b[1;32mfor\u001b[0m \u001b[0mi\u001b[0m \u001b[1;32min\u001b[0m \u001b[0mrange\u001b[0m\u001b[1;33m(\u001b[0m\u001b[0mlen\u001b[0m\u001b[1;33m(\u001b[0m\u001b[0mbosque\u001b[0m\u001b[1;33m)\u001b[0m\u001b[1;33m)\u001b[0m\u001b[1;33m:\u001b[0m\u001b[1;33m\u001b[0m\u001b[1;33m\u001b[0m\u001b[0m\n\u001b[0m\u001b[0;32m     18\u001b[0m         \u001b[0mcolumna_nombre\u001b[0m \u001b[1;33m=\u001b[0m \u001b[1;34m'arbol_{}'\u001b[0m\u001b[1;33m.\u001b[0m\u001b[0mformat\u001b[0m\u001b[1;33m(\u001b[0m\u001b[0mi\u001b[0m\u001b[1;33m)\u001b[0m\u001b[1;33m\u001b[0m\u001b[1;33m\u001b[0m\u001b[0m\n\u001b[0;32m     19\u001b[0m         \u001b[0mpredicciones\u001b[0m \u001b[1;33m=\u001b[0m \u001b[0mprediccion_arbol_decision\u001b[0m\u001b[1;33m(\u001b[0m\u001b[0mdf_prueba\u001b[0m\u001b[1;33m,\u001b[0m \u001b[0marbol\u001b[0m \u001b[1;33m=\u001b[0m \u001b[0mbosque\u001b[0m\u001b[1;33m[\u001b[0m\u001b[0mi\u001b[0m\u001b[1;33m]\u001b[0m\u001b[1;33m)\u001b[0m\u001b[1;33m\u001b[0m\u001b[1;33m\u001b[0m\u001b[0m\n",
      "\u001b[1;31mTypeError\u001b[0m: object of type 'function' has no len()"
     ]
    }
   ],
   "source": [
    "predicciones, df_predicciones = predicciones_bosque_aleatorio(df_prueba, bosque)"
=======
   "execution_count": 67,
   "metadata": {},
   "outputs": [
    {
     "data": {
      "text/html": [
       "<div>\n",
       "<style scoped>\n",
       "    .dataframe tbody tr th:only-of-type {\n",
       "        vertical-align: middle;\n",
       "    }\n",
       "\n",
       "    .dataframe tbody tr th {\n",
       "        vertical-align: top;\n",
       "    }\n",
       "\n",
       "    .dataframe thead th {\n",
       "        text-align: right;\n",
       "    }\n",
       "</style>\n",
       "<table border=\"1\" class=\"dataframe\">\n",
       "  <thead>\n",
       "    <tr style=\"text-align: right;\">\n",
       "      <th></th>\n",
       "      <th>arbol_0</th>\n",
       "      <th>arbol_1</th>\n",
       "      <th>arbol_2</th>\n",
       "      <th>arbol_3</th>\n",
       "    </tr>\n",
       "  </thead>\n",
       "  <tbody>\n",
       "    <tr>\n",
       "      <th>788</th>\n",
       "      <td>malo</td>\n",
       "      <td>malo</td>\n",
       "      <td>malo</td>\n",
       "      <td>bueno</td>\n",
       "    </tr>\n",
       "    <tr>\n",
       "      <th>1552</th>\n",
       "      <td>malo</td>\n",
       "      <td>bueno</td>\n",
       "      <td>bueno</td>\n",
       "      <td>bueno</td>\n",
       "    </tr>\n",
       "    <tr>\n",
       "      <th>861</th>\n",
       "      <td>malo</td>\n",
       "      <td>malo</td>\n",
       "      <td>malo</td>\n",
       "      <td>malo</td>\n",
       "    </tr>\n",
       "    <tr>\n",
       "      <th>82</th>\n",
       "      <td>malo</td>\n",
       "      <td>malo</td>\n",
       "      <td>malo</td>\n",
       "      <td>malo</td>\n",
       "    </tr>\n",
       "    <tr>\n",
       "      <th>530</th>\n",
       "      <td>bueno</td>\n",
       "      <td>bueno</td>\n",
       "      <td>malo</td>\n",
       "      <td>malo</td>\n",
       "    </tr>\n",
       "    <tr>\n",
       "      <th>...</th>\n",
       "      <td>...</td>\n",
       "      <td>...</td>\n",
       "      <td>...</td>\n",
       "      <td>...</td>\n",
       "    </tr>\n",
       "    <tr>\n",
       "      <th>562</th>\n",
       "      <td>malo</td>\n",
       "      <td>malo</td>\n",
       "      <td>malo</td>\n",
       "      <td>malo</td>\n",
       "    </tr>\n",
       "    <tr>\n",
       "      <th>927</th>\n",
       "      <td>malo</td>\n",
       "      <td>malo</td>\n",
       "      <td>malo</td>\n",
       "      <td>malo</td>\n",
       "    </tr>\n",
       "    <tr>\n",
       "      <th>525</th>\n",
       "      <td>malo</td>\n",
       "      <td>malo</td>\n",
       "      <td>malo</td>\n",
       "      <td>malo</td>\n",
       "    </tr>\n",
       "    <tr>\n",
       "      <th>273</th>\n",
       "      <td>malo</td>\n",
       "      <td>malo</td>\n",
       "      <td>malo</td>\n",
       "      <td>malo</td>\n",
       "    </tr>\n",
       "    <tr>\n",
       "      <th>1338</th>\n",
       "      <td>malo</td>\n",
       "      <td>malo</td>\n",
       "      <td>bueno</td>\n",
       "      <td>malo</td>\n",
       "    </tr>\n",
       "  </tbody>\n",
       "</table>\n",
       "<p>320 rows × 4 columns</p>\n",
       "</div>"
      ],
      "text/plain": [
       "     arbol_0 arbol_1 arbol_2 arbol_3\n",
       "788     malo    malo    malo   bueno\n",
       "1552    malo   bueno   bueno   bueno\n",
       "861     malo    malo    malo    malo\n",
       "82      malo    malo    malo    malo\n",
       "530    bueno   bueno    malo    malo\n",
       "...      ...     ...     ...     ...\n",
       "562     malo    malo    malo    malo\n",
       "927     malo    malo    malo    malo\n",
       "525     malo    malo    malo    malo\n",
       "273     malo    malo    malo    malo\n",
       "1338    malo    malo   bueno    malo\n",
       "\n",
       "[320 rows x 4 columns]"
      ]
     },
     "execution_count": 67,
     "metadata": {},
     "output_type": "execute_result"
    }
   ],
   "source": [
    "predicciones, df_predicciones = predicciones_bosque_aleatorio(df_prueba, bosque)\n",
    "df_predicciones"
>>>>>>> develop
   ]
  },
  {
   "cell_type": "markdown",
   "metadata": {},
   "source": [
<<<<<<< HEAD
    "# Probando Codigo"
=======
    "## Verificamos la moda de las predicciones obtenidas en cada arbol"
   ]
  },
  {
   "cell_type": "code",
   "execution_count": 68,
   "metadata": {},
   "outputs": [
    {
     "data": {
      "text/plain": [
       "788      malo\n",
       "1552    bueno\n",
       "861      malo\n",
       "82       malo\n",
       "530     bueno\n",
       "        ...  \n",
       "562      malo\n",
       "927      malo\n",
       "525      malo\n",
       "273      malo\n",
       "1338     malo\n",
       "Name: 0, Length: 320, dtype: object"
      ]
     },
     "execution_count": 68,
     "metadata": {},
     "output_type": "execute_result"
    }
   ],
   "source": [
    "predicciones"
>>>>>>> develop
   ]
  },
  {
   "cell_type": "markdown",
   "metadata": {},
   "source": [
<<<<<<< HEAD
    "## Generamos un bosque aleatorio"
=======
    "df_vino = df_vino.drop('quality', axis=1)\n"
>>>>>>> a1adfdf727735d89771bdb22e1384d718aacab86
=======
    "## Comprobamos la precision de nuetro bosque aleatorio"
>>>>>>> develop
   ]
  },
  {
   "cell_type": "code",
<<<<<<< HEAD
<<<<<<< HEAD
   "execution_count": 98,
   "metadata": {},
   "outputs": [],
   "source": [
    "bosque = algoritmo_bosque_aleatorio(df_entrenamiento, n_arboles=4, n_bootstraps=800, n_caracteristicas=4, ad_max_profundidad=4)"
=======
   "execution_count": 69,
   "metadata": {},
   "outputs": [
    {
     "name": "stdout",
     "output_type": "stream",
     "text": [
      "El bosque tiene una precision de 73.4375 %\n"
     ]
    }
   ],
   "source": [
    "precision = calcular_precision(predicciones, df_prueba.label)\n",
    "print (f'El bosque tiene una precision de {precision * 100} %') "
>>>>>>> develop
   ]
  },
  {
   "cell_type": "markdown",
   "metadata": {},
   "source": [
<<<<<<< HEAD
    "## Verificamos los Boques "
=======
    "## Comprobamos que datos fueron acertados en nuestro dataframe de prueba"
   ]
  },
  {
   "cell_type": "code",
   "execution_count": 70,
   "metadata": {},
   "outputs": [
    {
     "data": {
      "text/html": [
       "<div>\n",
       "<style scoped>\n",
       "    .dataframe tbody tr th:only-of-type {\n",
       "        vertical-align: middle;\n",
       "    }\n",
       "\n",
       "    .dataframe tbody tr th {\n",
       "        vertical-align: top;\n",
       "    }\n",
       "\n",
       "    .dataframe thead th {\n",
       "        text-align: right;\n",
       "    }\n",
       "</style>\n",
       "<table border=\"1\" class=\"dataframe\">\n",
       "  <thead>\n",
       "    <tr style=\"text-align: right;\">\n",
       "      <th></th>\n",
       "      <th>fixed_acidity</th>\n",
       "      <th>volatile_acidity</th>\n",
       "      <th>citric_acid</th>\n",
       "      <th>residual_sugar</th>\n",
       "      <th>chlorides</th>\n",
       "      <th>free_sulfur_dioxide</th>\n",
       "      <th>total_sulfur_dioxide</th>\n",
       "      <th>density</th>\n",
       "      <th>pH</th>\n",
       "      <th>sulphates</th>\n",
       "      <th>alcohol</th>\n",
       "      <th>label</th>\n",
       "      <th>bosque_predict</th>\n",
       "    </tr>\n",
       "  </thead>\n",
       "  <tbody>\n",
       "    <tr>\n",
       "      <th>788</th>\n",
       "      <td>10.0</td>\n",
       "      <td>0.560</td>\n",
       "      <td>0.24</td>\n",
       "      <td>2.2</td>\n",
       "      <td>0.079</td>\n",
       "      <td>19.0</td>\n",
       "      <td>58.0</td>\n",
       "      <td>0.99910</td>\n",
       "      <td>3.18</td>\n",
       "      <td>0.56</td>\n",
       "      <td>10.1</td>\n",
       "      <td>bueno</td>\n",
       "      <td>malo</td>\n",
       "    </tr>\n",
       "    <tr>\n",
       "      <th>1552</th>\n",
       "      <td>6.3</td>\n",
       "      <td>0.680</td>\n",
       "      <td>0.01</td>\n",
       "      <td>3.7</td>\n",
       "      <td>0.103</td>\n",
       "      <td>32.0</td>\n",
       "      <td>54.0</td>\n",
       "      <td>0.99586</td>\n",
       "      <td>3.51</td>\n",
       "      <td>0.66</td>\n",
       "      <td>11.3</td>\n",
       "      <td>bueno</td>\n",
       "      <td>bueno</td>\n",
       "    </tr>\n",
       "    <tr>\n",
       "      <th>861</th>\n",
       "      <td>5.8</td>\n",
       "      <td>1.010</td>\n",
       "      <td>0.66</td>\n",
       "      <td>2.0</td>\n",
       "      <td>0.039</td>\n",
       "      <td>15.0</td>\n",
       "      <td>88.0</td>\n",
       "      <td>0.99357</td>\n",
       "      <td>3.66</td>\n",
       "      <td>0.60</td>\n",
       "      <td>11.5</td>\n",
       "      <td>bueno</td>\n",
       "      <td>malo</td>\n",
       "    </tr>\n",
       "    <tr>\n",
       "      <th>82</th>\n",
       "      <td>7.4</td>\n",
       "      <td>0.500</td>\n",
       "      <td>0.47</td>\n",
       "      <td>2.0</td>\n",
       "      <td>0.086</td>\n",
       "      <td>21.0</td>\n",
       "      <td>73.0</td>\n",
       "      <td>0.99700</td>\n",
       "      <td>3.36</td>\n",
       "      <td>0.57</td>\n",
       "      <td>9.1</td>\n",
       "      <td>malo</td>\n",
       "      <td>malo</td>\n",
       "    </tr>\n",
       "    <tr>\n",
       "      <th>530</th>\n",
       "      <td>9.1</td>\n",
       "      <td>0.220</td>\n",
       "      <td>0.24</td>\n",
       "      <td>2.1</td>\n",
       "      <td>0.078</td>\n",
       "      <td>1.0</td>\n",
       "      <td>28.0</td>\n",
       "      <td>0.99900</td>\n",
       "      <td>3.41</td>\n",
       "      <td>0.87</td>\n",
       "      <td>10.3</td>\n",
       "      <td>bueno</td>\n",
       "      <td>bueno</td>\n",
       "    </tr>\n",
       "    <tr>\n",
       "      <th>...</th>\n",
       "      <td>...</td>\n",
       "      <td>...</td>\n",
       "      <td>...</td>\n",
       "      <td>...</td>\n",
       "      <td>...</td>\n",
       "      <td>...</td>\n",
       "      <td>...</td>\n",
       "      <td>...</td>\n",
       "      <td>...</td>\n",
       "      <td>...</td>\n",
       "      <td>...</td>\n",
       "      <td>...</td>\n",
       "      <td>...</td>\n",
       "    </tr>\n",
       "    <tr>\n",
       "      <th>562</th>\n",
       "      <td>9.0</td>\n",
       "      <td>0.540</td>\n",
       "      <td>0.49</td>\n",
       "      <td>2.9</td>\n",
       "      <td>0.094</td>\n",
       "      <td>41.0</td>\n",
       "      <td>110.0</td>\n",
       "      <td>0.99820</td>\n",
       "      <td>3.08</td>\n",
       "      <td>0.61</td>\n",
       "      <td>9.2</td>\n",
       "      <td>malo</td>\n",
       "      <td>malo</td>\n",
       "    </tr>\n",
       "    <tr>\n",
       "      <th>927</th>\n",
       "      <td>8.4</td>\n",
       "      <td>0.670</td>\n",
       "      <td>0.19</td>\n",
       "      <td>2.2</td>\n",
       "      <td>0.093</td>\n",
       "      <td>11.0</td>\n",
       "      <td>75.0</td>\n",
       "      <td>0.99736</td>\n",
       "      <td>3.20</td>\n",
       "      <td>0.59</td>\n",
       "      <td>9.2</td>\n",
       "      <td>malo</td>\n",
       "      <td>malo</td>\n",
       "    </tr>\n",
       "    <tr>\n",
       "      <th>525</th>\n",
       "      <td>10.4</td>\n",
       "      <td>0.640</td>\n",
       "      <td>0.24</td>\n",
       "      <td>2.8</td>\n",
       "      <td>0.105</td>\n",
       "      <td>29.0</td>\n",
       "      <td>53.0</td>\n",
       "      <td>0.99980</td>\n",
       "      <td>3.24</td>\n",
       "      <td>0.67</td>\n",
       "      <td>9.9</td>\n",
       "      <td>malo</td>\n",
       "      <td>malo</td>\n",
       "    </tr>\n",
       "    <tr>\n",
       "      <th>273</th>\n",
       "      <td>8.4</td>\n",
       "      <td>0.715</td>\n",
       "      <td>0.20</td>\n",
       "      <td>2.4</td>\n",
       "      <td>0.076</td>\n",
       "      <td>10.0</td>\n",
       "      <td>38.0</td>\n",
       "      <td>0.99735</td>\n",
       "      <td>3.31</td>\n",
       "      <td>0.64</td>\n",
       "      <td>9.4</td>\n",
       "      <td>malo</td>\n",
       "      <td>malo</td>\n",
       "    </tr>\n",
       "    <tr>\n",
       "      <th>1338</th>\n",
       "      <td>6.0</td>\n",
       "      <td>0.500</td>\n",
       "      <td>0.00</td>\n",
       "      <td>1.4</td>\n",
       "      <td>0.057</td>\n",
       "      <td>15.0</td>\n",
       "      <td>26.0</td>\n",
       "      <td>0.99448</td>\n",
       "      <td>3.36</td>\n",
       "      <td>0.45</td>\n",
       "      <td>9.5</td>\n",
       "      <td>malo</td>\n",
       "      <td>malo</td>\n",
       "    </tr>\n",
       "  </tbody>\n",
       "</table>\n",
       "<p>320 rows × 13 columns</p>\n",
       "</div>"
      ],
      "text/plain": [
       "      fixed_acidity  volatile_acidity  citric_acid  residual_sugar  chlorides  \\\n",
       "788            10.0             0.560         0.24             2.2      0.079   \n",
       "1552            6.3             0.680         0.01             3.7      0.103   \n",
       "861             5.8             1.010         0.66             2.0      0.039   \n",
       "82              7.4             0.500         0.47             2.0      0.086   \n",
       "530             9.1             0.220         0.24             2.1      0.078   \n",
       "...             ...               ...          ...             ...        ...   \n",
       "562             9.0             0.540         0.49             2.9      0.094   \n",
       "927             8.4             0.670         0.19             2.2      0.093   \n",
       "525            10.4             0.640         0.24             2.8      0.105   \n",
       "273             8.4             0.715         0.20             2.4      0.076   \n",
       "1338            6.0             0.500         0.00             1.4      0.057   \n",
       "\n",
       "      free_sulfur_dioxide  total_sulfur_dioxide  density    pH  sulphates  \\\n",
       "788                  19.0                  58.0  0.99910  3.18       0.56   \n",
       "1552                 32.0                  54.0  0.99586  3.51       0.66   \n",
       "861                  15.0                  88.0  0.99357  3.66       0.60   \n",
       "82                   21.0                  73.0  0.99700  3.36       0.57   \n",
       "530                   1.0                  28.0  0.99900  3.41       0.87   \n",
       "...                   ...                   ...      ...   ...        ...   \n",
       "562                  41.0                 110.0  0.99820  3.08       0.61   \n",
       "927                  11.0                  75.0  0.99736  3.20       0.59   \n",
       "525                  29.0                  53.0  0.99980  3.24       0.67   \n",
       "273                  10.0                  38.0  0.99735  3.31       0.64   \n",
       "1338                 15.0                  26.0  0.99448  3.36       0.45   \n",
       "\n",
       "      alcohol  label bosque_predict  \n",
       "788      10.1  bueno           malo  \n",
       "1552     11.3  bueno          bueno  \n",
       "861      11.5  bueno           malo  \n",
       "82        9.1   malo           malo  \n",
       "530      10.3  bueno          bueno  \n",
       "...       ...    ...            ...  \n",
       "562       9.2   malo           malo  \n",
       "927       9.2   malo           malo  \n",
       "525       9.9   malo           malo  \n",
       "273       9.4   malo           malo  \n",
       "1338      9.5   malo           malo  \n",
       "\n",
       "[320 rows x 13 columns]"
      ]
     },
     "execution_count": 70,
     "metadata": {},
     "output_type": "execute_result"
    }
   ],
   "source": [
    "df_prueba['bosque_predict'] = predicciones\n",
    "df_prueba"
   ]
  },
  {
   "cell_type": "markdown",
   "metadata": {},
   "source": [
    "## Comprobando la precision con un arbol"
   ]
  },
  {
   "cell_type": "code",
   "execution_count": 151,
   "metadata": {},
   "outputs": [
    {
     "name": "stdout",
     "output_type": "stream",
     "text": [
      "El arbol tiene una precision de 74.6875 %\n"
     ]
    }
   ],
   "source": [
    "bosque2 = algoritmo_bosque_aleatorio(df_entrenamiento, n_arboles=1, n_bootstraps=len(df_entrenamiento), n_caracteristicas=99, ad_max_profundidad=4)\n",
    "predicciones, df_predicciones = predicciones_bosque_aleatorio(df_prueba, bosque2)\n",
    "precision = calcular_precision(predicciones, df_prueba.label)\n",
    "print (f'El arbol tiene una precision de {precision * 100} %') "
   ]
  },
  {
   "cell_type": "code",
   "execution_count": 73,
   "metadata": {},
   "outputs": [
    {
     "name": "stdout",
     "output_type": "stream",
     "text": [
      "{'volatile_acidity <= 0.54': [{'sulphates <= 0.62': [{'chlorides <= 0.051': ['bueno',\n",
      "                                                                             'malo']},\n",
      "                                                     {'alcohol <= 11.2': [{'total_sulfur_dioxide <= 80.0': ['bueno',\n",
      "                                                                                                            'malo']},\n",
      "                                                                          {'fixed_acidity <= 12.6': ['bueno',\n",
      "                                                                                                     'malo']}]}]},\n",
      "                              {'chlorides <= 0.065': [{'alcohol <= 9.9': ['malo',\n",
      "                                                                          {'citric_acid <= 0.08': ['bueno',\n",
      "                                                                                                   'malo']}]},\n",
      "                                                      {'sulphates <= 0.53': [{'pH <= 3.58': ['malo',\n",
      "                                                                                             'bueno']},\n",
      "                                                                             {'density <= 0.99488': ['bueno',\n",
      "                                                                                                     'malo']}]}]}]}\n"
     ]
    }
   ],
   "source": [
    "pprint(bosque[0])"
   ]
  },
  {
   "cell_type": "markdown",
   "metadata": {},
   "source": [
    "# Random Forest con Sklearn"
   ]
  },
  {
   "cell_type": "code",
   "execution_count": 144,
   "metadata": {},
   "outputs": [],
   "source": [
    "from sklearn.model_selection import train_test_split\n",
    "from sklearn.ensemble import RandomForestClassifier\n",
    "from sklearn import tree\n",
    "from sklearn import metrics\n",
    "\n",
    "from IPython.display import Image as PImage\n",
    "from subprocess import check_call\n",
    "from PIL import Image, ImageDraw, ImageFont"
   ]
  },
  {
   "cell_type": "code",
   "execution_count": 145,
   "metadata": {},
   "outputs": [],
   "source": [
    "X = df_vino.drop('label', axis = 1).values\n",
    "y = df_vino.values[:,-1]"
   ]
  },
  {
   "cell_type": "code",
   "execution_count": 146,
   "metadata": {},
   "outputs": [],
   "source": [
    "X_train, X_test, y_train, y_test = train_test_split(X, y, test_size=0.2)"
   ]
  },
  {
   "cell_type": "code",
   "execution_count": 147,
   "metadata": {},
   "outputs": [
    {
     "data": {
      "text/plain": [
       "0.746875"
      ]
     },
     "execution_count": 147,
     "metadata": {},
     "output_type": "execute_result"
    }
   ],
   "source": [
    "clf = RandomForestClassifier(n_estimators=4)\n",
    "clf.fit(X_train, y_train)\n",
    "\n",
    "y_predict = clf.predict(X_test)\n",
    "metrics.accuracy_score (y_test, y_predict)"
   ]
  },
  {
   "cell_type": "code",
   "execution_count": 154,
   "metadata": {},
   "outputs": [
    {
     "ename": "AttributeError",
     "evalue": "'RandomForestClassifier' object has no attribute 'export_graphviz'",
     "output_type": "error",
     "traceback": [
      "\u001b[1;31m---------------------------------------------------------------------------\u001b[0m",
      "\u001b[1;31mAttributeError\u001b[0m                            Traceback (most recent call last)",
      "\u001b[1;32m<ipython-input-154-2342f79b366f>\u001b[0m in \u001b[0;36m<module>\u001b[1;34m\u001b[0m\n\u001b[0;32m      1\u001b[0m \u001b[1;32mwith\u001b[0m \u001b[0mopen\u001b[0m\u001b[1;33m(\u001b[0m\u001b[1;34mr\"wine-tree.dot\"\u001b[0m\u001b[1;33m,\u001b[0m\u001b[1;34m'w'\u001b[0m\u001b[1;33m)\u001b[0m \u001b[1;32mas\u001b[0m \u001b[0mf\u001b[0m\u001b[1;33m:\u001b[0m\u001b[1;33m\u001b[0m\u001b[1;33m\u001b[0m\u001b[0m\n\u001b[1;32m----> 2\u001b[1;33m     \u001b[0mf\u001b[0m \u001b[1;33m=\u001b[0m \u001b[0mclf\u001b[0m\u001b[1;33m.\u001b[0m\u001b[0mexport_graphviz\u001b[0m\u001b[1;33m(\u001b[0m\u001b[0mclf\u001b[0m\u001b[1;33m,\u001b[0m \u001b[0mout_file\u001b[0m\u001b[1;33m=\u001b[0m\u001b[0mf\u001b[0m\u001b[1;33m,\u001b[0m \u001b[0mfeature_names\u001b[0m\u001b[1;33m=\u001b[0m\u001b[0mcolumnas\u001b[0m\u001b[1;33m,\u001b[0m \u001b[0mclass_names\u001b[0m\u001b[1;33m=\u001b[0m\u001b[0mclases\u001b[0m\u001b[1;33m,\u001b[0m \u001b[0mimpurity\u001b[0m\u001b[1;33m=\u001b[0m\u001b[1;32mTrue\u001b[0m\u001b[1;33m,\u001b[0m \u001b[0mrounded\u001b[0m\u001b[1;33m=\u001b[0m\u001b[1;32mTrue\u001b[0m\u001b[1;33m,\u001b[0m \u001b[0mfilled\u001b[0m\u001b[1;33m=\u001b[0m\u001b[1;32mTrue\u001b[0m\u001b[1;33m)\u001b[0m\u001b[1;33m\u001b[0m\u001b[1;33m\u001b[0m\u001b[0m\n\u001b[0m\u001b[0;32m      3\u001b[0m \u001b[1;33m\u001b[0m\u001b[0m\n\u001b[0;32m      4\u001b[0m \u001b[0mos\u001b[0m\u001b[1;33m.\u001b[0m\u001b[0menviron\u001b[0m\u001b[1;33m[\u001b[0m\u001b[1;34m\"PATH\"\u001b[0m\u001b[1;33m]\u001b[0m \u001b[1;33m+=\u001b[0m \u001b[0mos\u001b[0m\u001b[1;33m.\u001b[0m\u001b[0mpathsep\u001b[0m \u001b[1;33m+\u001b[0m \u001b[1;34m'C:/Program Files (x86)/Graphviz2.38/bin/'\u001b[0m\u001b[1;33m\u001b[0m\u001b[1;33m\u001b[0m\u001b[0m\n\u001b[0;32m      5\u001b[0m \u001b[0mcheck_call\u001b[0m\u001b[1;33m(\u001b[0m\u001b[1;33m[\u001b[0m\u001b[1;34m'dot'\u001b[0m\u001b[1;33m,\u001b[0m\u001b[1;34m'-Tpng'\u001b[0m\u001b[1;33m,\u001b[0m\u001b[1;34mr'wine-tree.dot'\u001b[0m\u001b[1;33m,\u001b[0m\u001b[1;34m'-o'\u001b[0m\u001b[1;33m,\u001b[0m\u001b[1;34mr'wine-tree.png'\u001b[0m\u001b[1;33m]\u001b[0m\u001b[1;33m)\u001b[0m\u001b[1;33m\u001b[0m\u001b[1;33m\u001b[0m\u001b[0m\n",
      "\u001b[1;31mAttributeError\u001b[0m: 'RandomForestClassifier' object has no attribute 'export_graphviz'"
     ]
    }
   ],
   "source": [
    "with open(r\"wine-tree.dot\",'w') as f:\n",
    "    f = clf.export_graphviz(clf, out_file=f, feature_names=columnas, class_names=clases, impurity=True, rounded=True, filled=True)\n",
    "    \n",
    "os.environ[\"PATH\"] += os.pathsep + 'C:/Program Files (x86)/Graphviz2.38/bin/'\n",
    "check_call(['dot','-Tpng',r'wine-tree.dot','-o',r'wine-tree.png'])\n",
    "PImage(\"wine-tree.png\")"
   ]
  },
  {
   "cell_type": "code",
   "execution_count": 81,
   "metadata": {},
   "outputs": [
    {
     "data": {
      "text/html": [
       "<div>\n",
       "<style scoped>\n",
       "    .dataframe tbody tr th:only-of-type {\n",
       "        vertical-align: middle;\n",
       "    }\n",
       "\n",
       "    .dataframe tbody tr th {\n",
       "        vertical-align: top;\n",
       "    }\n",
       "\n",
       "    .dataframe thead th {\n",
       "        text-align: right;\n",
       "    }\n",
       "</style>\n",
       "<table border=\"1\" class=\"dataframe\">\n",
       "  <thead>\n",
       "    <tr style=\"text-align: right;\">\n",
       "      <th></th>\n",
       "      <th>fixed_acidity</th>\n",
       "      <th>volatile_acidity</th>\n",
       "      <th>citric_acid</th>\n",
       "      <th>residual_sugar</th>\n",
       "      <th>chlorides</th>\n",
       "      <th>free_sulfur_dioxide</th>\n",
       "      <th>total_sulfur_dioxide</th>\n",
       "      <th>density</th>\n",
       "      <th>pH</th>\n",
       "      <th>sulphates</th>\n",
       "      <th>alcohol</th>\n",
       "      <th>label</th>\n",
       "    </tr>\n",
       "  </thead>\n",
       "  <tbody>\n",
       "    <tr>\n",
       "      <th>0</th>\n",
       "      <td>7.4</td>\n",
       "      <td>0.70</td>\n",
       "      <td>0.00</td>\n",
       "      <td>1.9</td>\n",
       "      <td>0.076</td>\n",
       "      <td>11.0</td>\n",
       "      <td>34.0</td>\n",
       "      <td>0.9978</td>\n",
       "      <td>3.51</td>\n",
       "      <td>0.56</td>\n",
       "      <td>9.4</td>\n",
       "      <td>malo</td>\n",
       "    </tr>\n",
       "    <tr>\n",
       "      <th>1</th>\n",
       "      <td>7.8</td>\n",
       "      <td>0.88</td>\n",
       "      <td>0.00</td>\n",
       "      <td>2.6</td>\n",
       "      <td>0.098</td>\n",
       "      <td>25.0</td>\n",
       "      <td>67.0</td>\n",
       "      <td>0.9968</td>\n",
       "      <td>3.20</td>\n",
       "      <td>0.68</td>\n",
       "      <td>9.8</td>\n",
       "      <td>malo</td>\n",
       "    </tr>\n",
       "    <tr>\n",
       "      <th>2</th>\n",
       "      <td>7.8</td>\n",
       "      <td>0.76</td>\n",
       "      <td>0.04</td>\n",
       "      <td>2.3</td>\n",
       "      <td>0.092</td>\n",
       "      <td>15.0</td>\n",
       "      <td>54.0</td>\n",
       "      <td>0.9970</td>\n",
       "      <td>3.26</td>\n",
       "      <td>0.65</td>\n",
       "      <td>9.8</td>\n",
       "      <td>malo</td>\n",
       "    </tr>\n",
       "    <tr>\n",
       "      <th>3</th>\n",
       "      <td>11.2</td>\n",
       "      <td>0.28</td>\n",
       "      <td>0.56</td>\n",
       "      <td>1.9</td>\n",
       "      <td>0.075</td>\n",
       "      <td>17.0</td>\n",
       "      <td>60.0</td>\n",
       "      <td>0.9980</td>\n",
       "      <td>3.16</td>\n",
       "      <td>0.58</td>\n",
       "      <td>9.8</td>\n",
       "      <td>bueno</td>\n",
       "    </tr>\n",
       "    <tr>\n",
       "      <th>4</th>\n",
       "      <td>7.4</td>\n",
       "      <td>0.70</td>\n",
       "      <td>0.00</td>\n",
       "      <td>1.9</td>\n",
       "      <td>0.076</td>\n",
       "      <td>11.0</td>\n",
       "      <td>34.0</td>\n",
       "      <td>0.9978</td>\n",
       "      <td>3.51</td>\n",
       "      <td>0.56</td>\n",
       "      <td>9.4</td>\n",
       "      <td>malo</td>\n",
       "    </tr>\n",
       "  </tbody>\n",
       "</table>\n",
       "</div>"
      ],
      "text/plain": [
       "   fixed_acidity  volatile_acidity  citric_acid  residual_sugar  chlorides  \\\n",
       "0            7.4              0.70         0.00             1.9      0.076   \n",
       "1            7.8              0.88         0.00             2.6      0.098   \n",
       "2            7.8              0.76         0.04             2.3      0.092   \n",
       "3           11.2              0.28         0.56             1.9      0.075   \n",
       "4            7.4              0.70         0.00             1.9      0.076   \n",
       "\n",
       "   free_sulfur_dioxide  total_sulfur_dioxide  density    pH  sulphates  \\\n",
       "0                 11.0                  34.0   0.9978  3.51       0.56   \n",
       "1                 25.0                  67.0   0.9968  3.20       0.68   \n",
       "2                 15.0                  54.0   0.9970  3.26       0.65   \n",
       "3                 17.0                  60.0   0.9980  3.16       0.58   \n",
       "4                 11.0                  34.0   0.9978  3.51       0.56   \n",
       "\n",
       "   alcohol  label  \n",
       "0      9.4   malo  \n",
       "1      9.8   malo  \n",
       "2      9.8   malo  \n",
       "3      9.8  bueno  \n",
       "4      9.4   malo  "
      ]
     },
     "execution_count": 81,
     "metadata": {},
     "output_type": "execute_result"
    }
   ],
   "source": [
    "df_vino.head()"
>>>>>>> develop
   ]
  },
  {
   "cell_type": "code",
   "execution_count": 99,
   "metadata": {},
   "outputs": [
    {
     "data": {
      "text/html": [
       "<div>\n",
       "<style scoped>\n",
       "    .dataframe tbody tr th:only-of-type {\n",
       "        vertical-align: middle;\n",
       "    }\n",
       "\n",
       "    .dataframe tbody tr th {\n",
       "        vertical-align: top;\n",
       "    }\n",
       "\n",
       "    .dataframe thead th {\n",
       "        text-align: right;\n",
       "    }\n",
       "</style>\n",
       "<table border=\"1\" class=\"dataframe\">\n",
       "  <thead>\n",
       "    <tr style=\"text-align: right;\">\n",
       "      <th></th>\n",
       "      <th>arbol_0</th>\n",
       "      <th>arbol_1</th>\n",
       "      <th>arbol_2</th>\n",
       "      <th>arbol_3</th>\n",
       "    </tr>\n",
       "  </thead>\n",
       "  <tbody>\n",
       "    <tr>\n",
       "      <td>788</td>\n",
       "      <td>Bueno</td>\n",
       "      <td>Malo</td>\n",
       "      <td>Malo</td>\n",
       "      <td>Malo</td>\n",
       "    </tr>\n",
       "    <tr>\n",
       "      <td>1552</td>\n",
       "      <td>Bueno</td>\n",
       "      <td>Bueno</td>\n",
       "      <td>Bueno</td>\n",
       "      <td>Bueno</td>\n",
       "    </tr>\n",
       "    <tr>\n",
       "      <td>861</td>\n",
       "      <td>Bueno</td>\n",
       "      <td>Bueno</td>\n",
       "      <td>Bueno</td>\n",
       "      <td>Bueno</td>\n",
       "    </tr>\n",
       "    <tr>\n",
       "      <td>82</td>\n",
       "      <td>Malo</td>\n",
       "      <td>Malo</td>\n",
       "      <td>Malo</td>\n",
       "      <td>Malo</td>\n",
       "    </tr>\n",
       "    <tr>\n",
       "      <td>530</td>\n",
       "      <td>Bueno</td>\n",
       "      <td>Bueno</td>\n",
       "      <td>Bueno</td>\n",
       "      <td>Bueno</td>\n",
       "    </tr>\n",
       "    <tr>\n",
       "      <td>...</td>\n",
       "      <td>...</td>\n",
       "      <td>...</td>\n",
       "      <td>...</td>\n",
       "      <td>...</td>\n",
       "    </tr>\n",
       "    <tr>\n",
       "      <td>562</td>\n",
       "      <td>Malo</td>\n",
       "      <td>Malo</td>\n",
       "      <td>Malo</td>\n",
       "      <td>Malo</td>\n",
       "    </tr>\n",
       "    <tr>\n",
       "      <td>927</td>\n",
       "      <td>Malo</td>\n",
       "      <td>Malo</td>\n",
       "      <td>Malo</td>\n",
       "      <td>Malo</td>\n",
       "    </tr>\n",
       "    <tr>\n",
       "      <td>525</td>\n",
       "      <td>Malo</td>\n",
       "      <td>Malo</td>\n",
       "      <td>Malo</td>\n",
       "      <td>Bueno</td>\n",
       "    </tr>\n",
       "    <tr>\n",
       "      <td>273</td>\n",
       "      <td>Malo</td>\n",
       "      <td>Malo</td>\n",
       "      <td>Malo</td>\n",
       "      <td>Malo</td>\n",
       "    </tr>\n",
       "    <tr>\n",
       "      <td>1338</td>\n",
       "      <td>Malo</td>\n",
       "      <td>Malo</td>\n",
       "      <td>Malo</td>\n",
       "      <td>Bueno</td>\n",
       "    </tr>\n",
       "  </tbody>\n",
       "</table>\n",
       "<p>320 rows × 4 columns</p>\n",
       "</div>"
      ],
      "text/plain": [
       "     arbol_0 arbol_1 arbol_2 arbol_3\n",
       "788    Bueno    Malo    Malo    Malo\n",
       "1552   Bueno   Bueno   Bueno   Bueno\n",
       "861    Bueno   Bueno   Bueno   Bueno\n",
       "82      Malo    Malo    Malo    Malo\n",
       "530    Bueno   Bueno   Bueno   Bueno\n",
       "...      ...     ...     ...     ...\n",
       "562     Malo    Malo    Malo    Malo\n",
       "927     Malo    Malo    Malo    Malo\n",
       "525     Malo    Malo    Malo   Bueno\n",
       "273     Malo    Malo    Malo    Malo\n",
       "1338    Malo    Malo    Malo   Bueno\n",
       "\n",
       "[320 rows x 4 columns]"
      ]
     },
     "execution_count": 99,
     "metadata": {},
     "output_type": "execute_result"
    }
   ],
   "source": [
    "predicciones, df_predicciones = predicciones_bosque_aleatorio(df_prueba, bosque)\n",
    "df_predicciones"
   ]
  },
  {
   "cell_type": "code",
   "execution_count": 100,
   "metadata": {},
   "outputs": [
    {
     "data": {
      "text/plain": [
       "788      Malo\n",
       "1552    Bueno\n",
       "861     Bueno\n",
       "82       Malo\n",
       "530     Bueno\n",
       "        ...  \n",
       "562      Malo\n",
       "927      Malo\n",
       "525      Malo\n",
       "273      Malo\n",
       "1338     Malo\n",
       "Name: 0, Length: 320, dtype: object"
      ]
     },
     "execution_count": 100,
     "metadata": {},
     "output_type": "execute_result"
    }
   ],
   "source": [
    "predicciones"
   ]
  },
  {
   "cell_type": "markdown",
   "metadata": {},
   "source": [
    "## Comprobamos la presición"
   ]
  },
  {
   "cell_type": "code",
   "execution_count": 101,
   "metadata": {},
   "outputs": [
    {
     "name": "stdout",
     "output_type": "stream",
     "text": [
      "El bosque tiene una precision de 74.375 %\n"
     ]
    }
   ],
   "source": [
    "precision = calcular_precision(predicciones, df_prueba.label)\n",
    "print (f'El bosque tiene una precision de {precision * 100} %') "
   ]
  },
  {
   "cell_type": "markdown",
   "metadata": {},
   "source": [
    "### Comprobacíon de que datos fueron acertados"
   ]
  },
  {
   "cell_type": "code",
   "execution_count": 102,
   "metadata": {},
   "outputs": [
    {
     "data": {
      "text/html": [
       "<div>\n",
       "<style scoped>\n",
       "    .dataframe tbody tr th:only-of-type {\n",
       "        vertical-align: middle;\n",
       "    }\n",
       "\n",
       "    .dataframe tbody tr th {\n",
       "        vertical-align: top;\n",
       "    }\n",
       "\n",
       "    .dataframe thead th {\n",
       "        text-align: right;\n",
       "    }\n",
       "</style>\n",
       "<table border=\"1\" class=\"dataframe\">\n",
       "  <thead>\n",
       "    <tr style=\"text-align: right;\">\n",
       "      <th></th>\n",
       "      <th>fixed_acidity</th>\n",
       "      <th>volatile_acidity</th>\n",
       "      <th>citric_acid</th>\n",
       "      <th>residual_sugar</th>\n",
       "      <th>chlorides</th>\n",
       "      <th>free_sulfur_dioxide</th>\n",
       "      <th>total_sulfur_dioxide</th>\n",
       "      <th>density</th>\n",
       "      <th>pH</th>\n",
       "      <th>sulphates</th>\n",
       "      <th>alcohol</th>\n",
       "      <th>label</th>\n",
       "      <th>bosque_predict</th>\n",
       "    </tr>\n",
       "  </thead>\n",
       "  <tbody>\n",
       "    <tr>\n",
       "      <td>788</td>\n",
       "      <td>10.0</td>\n",
       "      <td>0.560</td>\n",
       "      <td>0.24</td>\n",
       "      <td>2.2</td>\n",
       "      <td>0.079</td>\n",
       "      <td>19.0</td>\n",
       "      <td>58.0</td>\n",
       "      <td>0.99910</td>\n",
       "      <td>3.18</td>\n",
       "      <td>0.56</td>\n",
       "      <td>10.1</td>\n",
       "      <td>Bueno</td>\n",
       "      <td>Malo</td>\n",
       "    </tr>\n",
       "    <tr>\n",
       "      <td>1552</td>\n",
       "      <td>6.3</td>\n",
       "      <td>0.680</td>\n",
       "      <td>0.01</td>\n",
       "      <td>3.7</td>\n",
       "      <td>0.103</td>\n",
       "      <td>32.0</td>\n",
       "      <td>54.0</td>\n",
       "      <td>0.99586</td>\n",
       "      <td>3.51</td>\n",
       "      <td>0.66</td>\n",
       "      <td>11.3</td>\n",
       "      <td>Bueno</td>\n",
       "      <td>Bueno</td>\n",
       "    </tr>\n",
       "    <tr>\n",
       "      <td>861</td>\n",
       "      <td>5.8</td>\n",
       "      <td>1.010</td>\n",
       "      <td>0.66</td>\n",
       "      <td>2.0</td>\n",
       "      <td>0.039</td>\n",
       "      <td>15.0</td>\n",
       "      <td>88.0</td>\n",
       "      <td>0.99357</td>\n",
       "      <td>3.66</td>\n",
       "      <td>0.60</td>\n",
       "      <td>11.5</td>\n",
       "      <td>Bueno</td>\n",
       "      <td>Bueno</td>\n",
       "    </tr>\n",
       "    <tr>\n",
       "      <td>82</td>\n",
       "      <td>7.4</td>\n",
       "      <td>0.500</td>\n",
       "      <td>0.47</td>\n",
       "      <td>2.0</td>\n",
       "      <td>0.086</td>\n",
       "      <td>21.0</td>\n",
       "      <td>73.0</td>\n",
       "      <td>0.99700</td>\n",
       "      <td>3.36</td>\n",
       "      <td>0.57</td>\n",
       "      <td>9.1</td>\n",
       "      <td>Malo</td>\n",
       "      <td>Malo</td>\n",
       "    </tr>\n",
       "    <tr>\n",
       "      <td>530</td>\n",
       "      <td>9.1</td>\n",
       "      <td>0.220</td>\n",
       "      <td>0.24</td>\n",
       "      <td>2.1</td>\n",
       "      <td>0.078</td>\n",
       "      <td>1.0</td>\n",
       "      <td>28.0</td>\n",
       "      <td>0.99900</td>\n",
       "      <td>3.41</td>\n",
       "      <td>0.87</td>\n",
       "      <td>10.3</td>\n",
       "      <td>Bueno</td>\n",
       "      <td>Bueno</td>\n",
       "    </tr>\n",
       "    <tr>\n",
       "      <td>...</td>\n",
       "      <td>...</td>\n",
       "      <td>...</td>\n",
       "      <td>...</td>\n",
       "      <td>...</td>\n",
       "      <td>...</td>\n",
       "      <td>...</td>\n",
       "      <td>...</td>\n",
       "      <td>...</td>\n",
       "      <td>...</td>\n",
       "      <td>...</td>\n",
       "      <td>...</td>\n",
       "      <td>...</td>\n",
       "      <td>...</td>\n",
       "    </tr>\n",
       "    <tr>\n",
       "      <td>562</td>\n",
       "      <td>9.0</td>\n",
       "      <td>0.540</td>\n",
       "      <td>0.49</td>\n",
       "      <td>2.9</td>\n",
       "      <td>0.094</td>\n",
       "      <td>41.0</td>\n",
       "      <td>110.0</td>\n",
       "      <td>0.99820</td>\n",
       "      <td>3.08</td>\n",
       "      <td>0.61</td>\n",
       "      <td>9.2</td>\n",
       "      <td>Malo</td>\n",
       "      <td>Malo</td>\n",
       "    </tr>\n",
       "    <tr>\n",
       "      <td>927</td>\n",
       "      <td>8.4</td>\n",
       "      <td>0.670</td>\n",
       "      <td>0.19</td>\n",
       "      <td>2.2</td>\n",
       "      <td>0.093</td>\n",
       "      <td>11.0</td>\n",
       "      <td>75.0</td>\n",
       "      <td>0.99736</td>\n",
       "      <td>3.20</td>\n",
       "      <td>0.59</td>\n",
       "      <td>9.2</td>\n",
       "      <td>Malo</td>\n",
       "      <td>Malo</td>\n",
       "    </tr>\n",
       "    <tr>\n",
       "      <td>525</td>\n",
       "      <td>10.4</td>\n",
       "      <td>0.640</td>\n",
       "      <td>0.24</td>\n",
       "      <td>2.8</td>\n",
       "      <td>0.105</td>\n",
       "      <td>29.0</td>\n",
       "      <td>53.0</td>\n",
       "      <td>0.99980</td>\n",
       "      <td>3.24</td>\n",
       "      <td>0.67</td>\n",
       "      <td>9.9</td>\n",
       "      <td>Malo</td>\n",
       "      <td>Malo</td>\n",
       "    </tr>\n",
       "    <tr>\n",
       "      <td>273</td>\n",
       "      <td>8.4</td>\n",
       "      <td>0.715</td>\n",
       "      <td>0.20</td>\n",
       "      <td>2.4</td>\n",
       "      <td>0.076</td>\n",
       "      <td>10.0</td>\n",
       "      <td>38.0</td>\n",
       "      <td>0.99735</td>\n",
       "      <td>3.31</td>\n",
       "      <td>0.64</td>\n",
       "      <td>9.4</td>\n",
       "      <td>Malo</td>\n",
       "      <td>Malo</td>\n",
       "    </tr>\n",
       "    <tr>\n",
       "      <td>1338</td>\n",
       "      <td>6.0</td>\n",
       "      <td>0.500</td>\n",
       "      <td>0.00</td>\n",
       "      <td>1.4</td>\n",
       "      <td>0.057</td>\n",
       "      <td>15.0</td>\n",
       "      <td>26.0</td>\n",
       "      <td>0.99448</td>\n",
       "      <td>3.36</td>\n",
       "      <td>0.45</td>\n",
       "      <td>9.5</td>\n",
       "      <td>Malo</td>\n",
       "      <td>Malo</td>\n",
       "    </tr>\n",
       "  </tbody>\n",
       "</table>\n",
       "<p>320 rows × 13 columns</p>\n",
       "</div>"
      ],
      "text/plain": [
       "      fixed_acidity  volatile_acidity  citric_acid  residual_sugar  chlorides  \\\n",
       "788            10.0             0.560         0.24             2.2      0.079   \n",
       "1552            6.3             0.680         0.01             3.7      0.103   \n",
       "861             5.8             1.010         0.66             2.0      0.039   \n",
       "82              7.4             0.500         0.47             2.0      0.086   \n",
       "530             9.1             0.220         0.24             2.1      0.078   \n",
       "...             ...               ...          ...             ...        ...   \n",
       "562             9.0             0.540         0.49             2.9      0.094   \n",
       "927             8.4             0.670         0.19             2.2      0.093   \n",
       "525            10.4             0.640         0.24             2.8      0.105   \n",
       "273             8.4             0.715         0.20             2.4      0.076   \n",
       "1338            6.0             0.500         0.00             1.4      0.057   \n",
       "\n",
       "      free_sulfur_dioxide  total_sulfur_dioxide  density    pH  sulphates  \\\n",
       "788                  19.0                  58.0  0.99910  3.18       0.56   \n",
       "1552                 32.0                  54.0  0.99586  3.51       0.66   \n",
       "861                  15.0                  88.0  0.99357  3.66       0.60   \n",
       "82                   21.0                  73.0  0.99700  3.36       0.57   \n",
       "530                   1.0                  28.0  0.99900  3.41       0.87   \n",
       "...                   ...                   ...      ...   ...        ...   \n",
       "562                  41.0                 110.0  0.99820  3.08       0.61   \n",
       "927                  11.0                  75.0  0.99736  3.20       0.59   \n",
       "525                  29.0                  53.0  0.99980  3.24       0.67   \n",
       "273                  10.0                  38.0  0.99735  3.31       0.64   \n",
       "1338                 15.0                  26.0  0.99448  3.36       0.45   \n",
       "\n",
       "      alcohol  label bosque_predict  \n",
       "788      10.1  Bueno           Malo  \n",
       "1552     11.3  Bueno          Bueno  \n",
       "861      11.5  Bueno          Bueno  \n",
       "82        9.1   Malo           Malo  \n",
       "530      10.3  Bueno          Bueno  \n",
       "...       ...    ...            ...  \n",
       "562       9.2   Malo           Malo  \n",
       "927       9.2   Malo           Malo  \n",
       "525       9.9   Malo           Malo  \n",
       "273       9.4   Malo           Malo  \n",
       "1338      9.5   Malo           Malo  \n",
       "\n",
       "[320 rows x 13 columns]"
      ]
     },
     "execution_count": 102,
     "metadata": {},
     "output_type": "execute_result"
    }
   ],
   "source": [
    "df_prueba['bosque_predict'] = predicciones\n",
    "df_prueba"
   ]
  },
  {
   "cell_type": "markdown",
   "metadata": {},
   "source": [
    "### Comprobacion de la presición de un arbol"
   ]
  },
  {
   "cell_type": "code",
   "execution_count": 103,
   "metadata": {},
   "outputs": [
    {
     "name": "stdout",
     "output_type": "stream",
     "text": [
      "El arbol tiene una precision de 74.0625 %\n"
     ]
    }
   ],
   "source": [
    "bosque2 = algoritmo_bosque_aleatorio(df_entrenamiento, n_arboles=1, n_bootstraps=len(df_entrenamiento), n_caracteristicas=99, ad_max_profundidad=4)\n",
    "predicciones, df_predicciones = predicciones_bosque_aleatorio(df_prueba, bosque2)\n",
    "precision = calcular_precision(predicciones, df_prueba.label)\n",
    "print (f'El arbol tiene una precision de {precision * 100} %') "
   ]
  },
  {
   "cell_type": "code",
   "execution_count": 104,
   "metadata": {},
   "outputs": [
    {
     "name": "stdout",
     "output_type": "stream",
     "text": [
      "{'volatile_acidity <= 0.585': [{'sulphates <= 0.52': [{'chlorides <= 0.05': ['Bueno',\n",
      "                                                                             'Malo']},\n",
      "                                                      {'alcohol <= 9.8': [{'total_sulfur_dioxide <= 38.0': ['Bueno',\n",
      "                                                                                                            'Malo']},\n",
      "                                                                          {'chlorides <= 0.123': ['Bueno',\n",
      "                                                                                                  'Malo']}]}]},\n",
      "                               {'free_sulfur_dioxide <= 33.0': [{'alcohol <= 10.1': [{'fixed_acidity <= 10.6': ['Malo',\n",
      "                                                                                                                'Bueno']},\n",
      "                                                                                     {'sulphates <= 0.57': ['Malo',\n",
      "                                                                                                            'Bueno']}]},\n",
      "                                                                'Malo']}]}\n"
     ]
    }
   ],
   "source": [
    "pprint(bosque[0])"
   ]
  },
  {
   "cell_type": "markdown",
   "metadata": {},
   "source": [
    "### Random Forest con Skleanr"
   ]
  },
  {
   "cell_type": "code",
   "execution_count": 111,
   "metadata": {},
   "outputs": [],
   "source": [
    "import os\n",
    "from sklearn.model_selection import train_test_split\n",
    "from sklearn.ensemble import RandomForestClassifier\n",
    "from sklearn import tree\n",
    "from sklearn import metrics\n",
    "\n",
    "from IPython.display import Image as PImage\n",
    "from subprocess import check_call\n",
    "from PIL import Image, ImageDraw, ImageFont"
   ]
  },
  {
   "cell_type": "code",
   "execution_count": 112,
   "metadata": {},
   "outputs": [],
   "source": [
    "X = df_vino.drop('label', axis = 1).values\n",
    "y = df_vino.values[:,-1]"
   ]
  },
  {
   "cell_type": "code",
   "execution_count": 117,
   "metadata": {},
   "outputs": [],
   "source": [
    "X_train, X_test, y_train, y_test = train_test_split(X, y, test_size=0.2)\n"
   ]
  },
  {
   "cell_type": "code",
   "execution_count": 118,
   "metadata": {},
   "outputs": [
    {
     "data": {
      "text/plain": [
       "0.709375"
      ]
     },
     "execution_count": 118,
     "metadata": {},
     "output_type": "execute_result"
    }
   ],
   "source": [
    "clf = RandomForestClassifier(n_estimators=4, max_depth=4)\n",
    "clf.fit(X_train, y_train)\n",
    "\n",
    "y_predict = clf.predict(X_test)\n",
    "metrics.accuracy_score (y_test, y_predict)"
   ]
  },
  {
   "cell_type": "markdown",
   "metadata": {},
   "source": [
    "with open(r\"wine-tree.dot\",'w') as f:\n",
    "    f = tree.export_graphviz(clf.estimators_[1], out_file=f, impurity=True, rounded=True, filled=True)\n",
    "    \n",
    "os.environ[\"PATH\"] += os.pathsep + 'C:/Program Files (x86)/Graphviz2.38/bin/'\n",
    "check_call(['dot','-Tpng',r'wine-tree.dot','-o',r'wine-tree.png'])\n",
    "PImage(\"wine-tree.png\")"
   ]
  },
  {
   "cell_type": "markdown",
   "metadata": {},
   "source": [
    "df_vino.head()"
   ]
=======
   "execution_count": null,
   "metadata": {},
   "outputs": [],
   "source": []
>>>>>>> a1adfdf727735d89771bdb22e1384d718aacab86
  }
 ],
 "metadata": {
  "kernelspec": {
   "display_name": "Python 3",
   "language": "python",
   "name": "python3"
  },
  "language_info": {
   "codemirror_mode": {
    "name": "ipython",
    "version": 3
   },
   "file_extension": ".py",
   "mimetype": "text/x-python",
   "name": "python",
   "nbconvert_exporter": "python",
   "pygments_lexer": "ipython3",
<<<<<<< HEAD
<<<<<<< HEAD
   "version": "3.7.4"
=======
   "version": "3.8.2"
>>>>>>> a1adfdf727735d89771bdb22e1384d718aacab86
=======
   "version": "3.7.6"
>>>>>>> develop
  }
 },
 "nbformat": 4,
 "nbformat_minor": 4
}
