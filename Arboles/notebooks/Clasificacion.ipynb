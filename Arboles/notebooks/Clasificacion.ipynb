{
 "cells": [
  {
   "cell_type": "markdown",
   "metadata": {},
   "source": [
    "# ARBOLES DE DECISIONES"
   ]
  },
  {
   "cell_type": "markdown",
   "metadata": {},
   "source": [
    "## Definición \n",
    "Los árboles de decisión son uno de los algoritmos de Machine Learning más populares, esto se debe a que puede ser fácilmente visible para que un humano pueda entender lo que está sucediendo. Imaginemos un diagrama de flujo, donde cada nivel es una pregunta con una respuesta de sí o no. Eventualmente una respuesta te dará una solución al problema inicial. Esto precisamente es un árbol de decisión. "
   ]
  },
  {
   "cell_type": "markdown",
   "metadata": {},
   "source": [
    "<img src=\"arbol1.png\">"
   ]
  },
  {
   "cell_type": "markdown",
   "metadata": {},
   "source": [
    "## La idea básica detrás de un árbol de decisión\n",
    "* Seleccionar el mejor atributo utilizando una medida de selección de atributos o características.\n",
    "* Del atributo seleccionado se debe hacer un nodo de decisión y se debe dividir en conjunto de datos en subconjuntos más pequeños. \n",
    "* Se debe comenzar la construcción del árbol repitiendo el mismo proceso recursivamente para cada atributo hasta que una de las siguientes condiciones coincida: todas las variables pertenecen al mismo valor de atributo. Ya no quedan más atributos. No hay más casos."
   ]
  },
  {
   "cell_type": "markdown",
   "metadata": {},
   "source": [
    "## Medida de selección de atributos\n",
    "### Ganancia de información:\n",
    "Cuando usamos un nodo de un árbol de decisión para particionar las instancias de formación en subconjuntos más pequeños, la entropía cambia. La ganancia de información es una medida de este cambio en la entropía. La entropía por su parte, es la medida de la incertidumbre de una variable aleatoria, caracteriza la impureza de una colección arbitraria de ejemplos. Cuanto mayor sea la entropía, mayor será el contenido de la información. \n",
    "Para construir un árbol de decisión utilizando una ganancia de información se debe considerar: \n",
    "* Comenzar con todas las instancias de formación asociadas a la raíz del nodo.\n",
    "* Utilizar la ganancia de información para elegir que atributo etiquetar cada nodo con cual.\n",
    "* Construir recursivamente cada subárbol en el subconjunto de instancias de capacitación que se clasificarían en ese camino en el árbol. Ninguna ruta de raíz a hoja debe contener el mismo atributo discreto dos veces. \n",
    "\n",
    "### Índice de Gini\n",
    "Es una métrica para medir la frecuencia con la que un elemento elegido al azar seria identificado incorrectamente. Esto significa que se debe preferir un atributo con un índice de gini más bajo."
   ]
  },
  {
   "cell_type": "markdown",
   "metadata": {},
   "source": [
    "# Importando Librerias\n",
    "* Pandas: proporciona herramientas de análisis y manipulación de datos de alto rendimiento utilizando sus potentes estructuras de datos\n",
    "* Numpy: le agrega mayor soporte para vectores y matrices, constituyendo una biblioteca de funciones matemáticas de alto nivel para operar con esos vectores o matrices.\n",
    "* Matplotlib: es una biblioteca para la generación de gráficos a partir de datos contenidos en listas o arrays en el lenguaje de programación Python y su extensión matemática NumPy\n",
    "* Seaborn: es la librería con la cual podemos crear gráficos estadísticos informativos y atractivos de forma muy sencilla, se basan en Matplotlib pero ofrece varias características interesantes tales como temas, paletas de colores, funciones y herramientas para visualizar distribuciones de una o varias variables aleatorias, regresiones lineales, series de tiempo.\n",
    "* Random: Se utiliza para obtener un número aleatorio."
   ]
  },
  {
   "cell_type": "code",
   "execution_count": 27,
   "metadata": {},
   "outputs": [],
   "source": [
    "import pandas as pd\n",
    "import numpy as np\n",
    "import os \n",
    "\n",
    "import matplotlib.pyplot as plt\n",
    "import seaborn as sns\n",
    "\n",
    "import random\n",
    "from pprint import pprint"
   ]
  },
  {
   "cell_type": "code",
   "execution_count": 22,
   "metadata": {},
   "outputs": [],
   "source": [
    "%matplotlib inline\n",
    "sns.set_style(\"darkgrid\")"
   ]
  },
  {
   "cell_type": "markdown",
   "metadata": {},
   "source": [
    "# Preparando los datos\n",
    "Al preparar los datos se debe decidir que hacer cuando en un data set algunos de estos campos esten vacios o no esten de acuedo al formato de la columna o fila. Tennemos que hacer una limpieza de los datos teniendo los siguientes puntos a considerar: \n",
    "* En el primer caso, si los descartamos, lo más probable es que nos obligue a descartar de la información que tenemos, otras variables que sí necesitamos para nuestro análisis y para las cuales tenemos datos.\n",
    "* En el segundo, debemos elegir la mejor forma para “rellenar” dichos datos ausentes. "
   ]
  },
  {
   "cell_type": "markdown",
   "metadata": {},
   "source": [
    "### Preparacion y limpieza\n",
    "En muchas ocasiones, puede que necesitemos abordar, ordenar y limpiar nuestro dataset. Todo depende del origen de los datos, y de su calidad. Este concepto de ordenar no se refiere a ordenar de mayor a menor las filas de una tabla (que probablemente para el análisis posterior será irrelevante). Nos referimos a ordenar la información de manera que tengamos lo que necesitamos en el formato requerido, y eliminemos lo que nos sobre.\n",
    "Concluyendo en lo siguiente: \n",
    "- La ultima columna debera contener la etiqueta (valor o categoria a predecir) ademas debe tener un nombre en especifico, por lo tanto pondremos como nombre \"label\".\n",
    "- No deben de haber valores nulos en el dataframe."
   ]
  },
  {
   "cell_type": "markdown",
   "metadata": {},
   "source": [
    "### Cargamos el dataframe"
   ]
  },
  {
   "cell_type": "code",
   "execution_count": 23,
   "metadata": {},
   "outputs": [],
   "source": [
    "df = pd.read_csv('../data/Iris.csv')"
   ]
  },
  {
   "cell_type": "code",
   "execution_count": 24,
   "metadata": {},
   "outputs": [
    {
     "data": {
      "text/html": [
       "<div>\n",
       "<style scoped>\n",
       "    .dataframe tbody tr th:only-of-type {\n",
       "        vertical-align: middle;\n",
       "    }\n",
       "\n",
       "    .dataframe tbody tr th {\n",
       "        vertical-align: top;\n",
       "    }\n",
       "\n",
       "    .dataframe thead th {\n",
       "        text-align: right;\n",
       "    }\n",
       "</style>\n",
       "<table border=\"1\" class=\"dataframe\">\n",
       "  <thead>\n",
       "    <tr style=\"text-align: right;\">\n",
       "      <th></th>\n",
       "      <th>Id</th>\n",
       "      <th>sepal_length</th>\n",
       "      <th>sepal_width</th>\n",
       "      <th>petal_length</th>\n",
       "      <th>petal_width</th>\n",
       "      <th>species</th>\n",
       "    </tr>\n",
       "  </thead>\n",
       "  <tbody>\n",
       "    <tr>\n",
       "      <th>0</th>\n",
       "      <td>1</td>\n",
       "      <td>5.1</td>\n",
       "      <td>3.5</td>\n",
       "      <td>1.4</td>\n",
       "      <td>0.2</td>\n",
       "      <td>Iris-setosa</td>\n",
       "    </tr>\n",
       "    <tr>\n",
       "      <th>1</th>\n",
       "      <td>2</td>\n",
       "      <td>4.9</td>\n",
       "      <td>3.0</td>\n",
       "      <td>1.4</td>\n",
       "      <td>0.2</td>\n",
       "      <td>Iris-setosa</td>\n",
       "    </tr>\n",
       "    <tr>\n",
       "      <th>2</th>\n",
       "      <td>3</td>\n",
       "      <td>4.7</td>\n",
       "      <td>3.2</td>\n",
       "      <td>1.3</td>\n",
       "      <td>0.2</td>\n",
       "      <td>Iris-setosa</td>\n",
       "    </tr>\n",
       "    <tr>\n",
       "      <th>3</th>\n",
       "      <td>4</td>\n",
       "      <td>4.6</td>\n",
       "      <td>3.1</td>\n",
       "      <td>1.5</td>\n",
       "      <td>0.2</td>\n",
       "      <td>Iris-setosa</td>\n",
       "    </tr>\n",
       "    <tr>\n",
       "      <th>4</th>\n",
       "      <td>5</td>\n",
       "      <td>5.0</td>\n",
       "      <td>3.6</td>\n",
       "      <td>1.4</td>\n",
       "      <td>0.2</td>\n",
       "      <td>Iris-setosa</td>\n",
       "    </tr>\n",
       "  </tbody>\n",
       "</table>\n",
       "</div>"
      ],
      "text/plain": [
       "   Id  sepal_length  sepal_width  petal_length  petal_width      species\n",
       "0   1           5.1          3.5           1.4          0.2  Iris-setosa\n",
       "1   2           4.9          3.0           1.4          0.2  Iris-setosa\n",
       "2   3           4.7          3.2           1.3          0.2  Iris-setosa\n",
       "3   4           4.6          3.1           1.5          0.2  Iris-setosa\n",
       "4   5           5.0          3.6           1.4          0.2  Iris-setosa"
      ]
     },
     "execution_count": 24,
     "metadata": {},
     "output_type": "execute_result"
    }
   ],
   "source": [
    "df.head()"
   ]
  },
  {
   "cell_type": "markdown",
   "metadata": {},
   "source": [
    "### Se procede a eliminar las columnas innecesarias y cambiar el nombre a la última columna"
   ]
  },
  {
   "cell_type": "code",
   "execution_count": 25,
   "metadata": {},
   "outputs": [
    {
     "data": {
      "text/html": [
       "<div>\n",
       "<style scoped>\n",
       "    .dataframe tbody tr th:only-of-type {\n",
       "        vertical-align: middle;\n",
       "    }\n",
       "\n",
       "    .dataframe tbody tr th {\n",
       "        vertical-align: top;\n",
       "    }\n",
       "\n",
       "    .dataframe thead th {\n",
       "        text-align: right;\n",
       "    }\n",
       "</style>\n",
       "<table border=\"1\" class=\"dataframe\">\n",
       "  <thead>\n",
       "    <tr style=\"text-align: right;\">\n",
       "      <th></th>\n",
       "      <th>sepal_length</th>\n",
       "      <th>sepal_width</th>\n",
       "      <th>petal_length</th>\n",
       "      <th>petal_width</th>\n",
       "      <th>label</th>\n",
       "    </tr>\n",
       "  </thead>\n",
       "  <tbody>\n",
       "    <tr>\n",
       "      <th>0</th>\n",
       "      <td>5.1</td>\n",
       "      <td>3.5</td>\n",
       "      <td>1.4</td>\n",
       "      <td>0.2</td>\n",
       "      <td>Iris-setosa</td>\n",
       "    </tr>\n",
       "    <tr>\n",
       "      <th>1</th>\n",
       "      <td>4.9</td>\n",
       "      <td>3.0</td>\n",
       "      <td>1.4</td>\n",
       "      <td>0.2</td>\n",
       "      <td>Iris-setosa</td>\n",
       "    </tr>\n",
       "    <tr>\n",
       "      <th>2</th>\n",
       "      <td>4.7</td>\n",
       "      <td>3.2</td>\n",
       "      <td>1.3</td>\n",
       "      <td>0.2</td>\n",
       "      <td>Iris-setosa</td>\n",
       "    </tr>\n",
       "    <tr>\n",
       "      <th>3</th>\n",
       "      <td>4.6</td>\n",
       "      <td>3.1</td>\n",
       "      <td>1.5</td>\n",
       "      <td>0.2</td>\n",
       "      <td>Iris-setosa</td>\n",
       "    </tr>\n",
       "    <tr>\n",
       "      <th>4</th>\n",
       "      <td>5.0</td>\n",
       "      <td>3.6</td>\n",
       "      <td>1.4</td>\n",
       "      <td>0.2</td>\n",
       "      <td>Iris-setosa</td>\n",
       "    </tr>\n",
       "  </tbody>\n",
       "</table>\n",
       "</div>"
      ],
      "text/plain": [
       "   sepal_length  sepal_width  petal_length  petal_width        label\n",
       "0           5.1          3.5           1.4          0.2  Iris-setosa\n",
       "1           4.9          3.0           1.4          0.2  Iris-setosa\n",
       "2           4.7          3.2           1.3          0.2  Iris-setosa\n",
       "3           4.6          3.1           1.5          0.2  Iris-setosa\n",
       "4           5.0          3.6           1.4          0.2  Iris-setosa"
      ]
     },
     "execution_count": 25,
     "metadata": {},
     "output_type": "execute_result"
    }
   ],
   "source": [
    "# Procederemos a eliminar columnas innecesarias\n",
    "df = df.drop(\"Id\", axis=1)\n",
    "# Cambiamos el nombre a la ultima columna\n",
    "df = df.rename(columns={'species': 'label'})\n",
    "df.head()"
   ]
  },
  {
   "cell_type": "markdown",
   "metadata": {},
   "source": [
    "# Split de Entrenamiento y de Prueba\n",
    "El Spli te entrenamiento se utiliza para construir el modelo y que este se adapte a los patrones de los datos que se ocupan predecir. Mencionar que los datos de entrenamiento van a ser más grandes que los datos de prueba.\n",
    "En el Split de prueba, es el que se va a usar para probar si el modelo funciona de manera adecuada, también nos ayuda a ver qué tan preciso es el modelo para predecir los nuevos datos."
   ]
  },
  {
   "cell_type": "markdown",
   "metadata": {},
   "source": [
    "## Función que se encarga de segmentar el dataframe en dos partes\n",
    "* Una de entrenamiento y \n",
    "* otra de prueba.\n",
    "\n",
    "Esta funcion retorna los dos dataframe."
   ]
  },
  {
   "cell_type": "code",
   "execution_count": 28,
   "metadata": {},
   "outputs": [],
   "source": [
    "def entrenamiento_prueba_split(df, tamanio_prueba):\n",
    "    '''\n",
    "    Retorna dos dataframes distintos, uno de\n",
    "    entrenamiento y otro de prueba.\n",
    "    \n",
    "    Parametros:\n",
    "    df: dataframe completo, sin segmentar.\n",
    "    tamanio_prueba: tamaño de la muestra de prueba.\n",
    "    '''\n",
    "    if isinstance(tamanio_prueba, float):\n",
    "        tamanio_prueba = round(tamanio_prueba * len(df))\n",
    "        \n",
    "    indices = df.index.tolist()\n",
    "    prueba_indices = random.sample(population=indices, k=tamanio_prueba)\n",
    "    \n",
    "    df_prueba = df.loc[prueba_indices]\n",
    "    df_entrenamiento = df.drop(prueba_indices)\n",
    "    \n",
    "    return df_entrenamiento, df_prueba    "
   ]
  },
  {
   "cell_type": "code",
   "execution_count": 29,
   "metadata": {},
   "outputs": [],
   "source": [
    "random.seed(0)\n",
    "df_entrenamiento, df_prueba = entrenamiento_prueba_split(df, tamanio_prueba=20)"
   ]
  },
  {
   "cell_type": "markdown",
   "metadata": {},
   "source": [
    "## Datos de Entrenamiento\n",
    "En la siguiente linea podemos observar que lo que tratamos es visualizar como estan distribuidos los datos de entrenamiento que tenemos. \n",
    "En este caso utilizamos lo que es el data set de iris en el cual hay un conjunto de datos que contiene 50 muestras de cada una de tres especies de Iris (Iris setosa, Iris virginica e Iris versicolor). Se midió cuatro rasgos de cada muestra: el largo y ancho del sépalo y pétalo, en centímetros. "
   ]
  },
  {
   "cell_type": "code",
   "execution_count": 30,
   "metadata": {},
   "outputs": [
    {
     "data": {
      "text/plain": [
       "Text(0.5, 1, 'Datos de entrenamiento')"
      ]
     },
     "execution_count": 30,
     "metadata": {},
     "output_type": "execute_result"
    },
    {
     "data": {
      "image/png": "[encoded data removed]",
      "text/plain": [
       "<Figure size 743.875x432 with 1 Axes>"
      ]
     },
     "metadata": {},
     "output_type": "display_data"
    }
   ],
   "source": [
    "sns.lmplot(data=df_entrenamiento, x='petal_width', y='petal_length', \n",
    "           fit_reg=False, hue='label', height=6, aspect=1.5)\n",
    "titulo = plt.gca()\n",
    "titulo.set_title(\"Datos de entrenamiento\")"
   ]
  },
  {
   "cell_type": "markdown",
   "metadata": {},
   "source": [
    "## Datos de Prueba\n",
    "En el siguiente grafico podemos observar que lo anteriormente dicho sobre los datos de entrenamiento y los datos de prueba se cumplen, ya que en este caso los datos de prueba son menores, pero siempre se trata de clasificar cada uno de los tres tipos de iris."
   ]
  },
  {
   "cell_type": "code",
   "execution_count": 192,
   "metadata": {},
   "outputs": [
    {
     "data": {
      "text/plain": [
       "Text(0.5, 1, 'Datos de Prueba')"
      ]
     },
     "execution_count": 192,
     "metadata": {},
     "output_type": "execute_result"
    },
    {
     "data": {
      "image/png": "[encoded data removed]",
      "text/plain": [
       "<Figure size 743.875x432 with 1 Axes>"
      ]
     },
     "metadata": {},
     "output_type": "display_data"
    }
   ],
   "source": [
    "sns.lmplot(data=df_prueba, x='petal_width', y='petal_length', hue='label', fit_reg=False, height=6, aspect=1.5)\n",
    "titulo = plt.gca()\n",
    "titulo.set_title(\"Datos de Prueba\")"
   ]
  },
  {
   "cell_type": "markdown",
   "metadata": {},
   "source": [
    "# Funciones de Apoyo"
   ]
  },
  {
   "cell_type": "markdown",
   "metadata": {},
   "source": [
    "Nuestras funciones de apoyo seran de acuerdo al algoritmo para encontrar nuestro arbol de decision.\n",
    "- verificar_pureza\n",
    "- clasificar_data\n",
    "- obtener_posibles_segmentos\n",
    "- segmentar_data\n",
    "- calcular_entropia\n",
    "- calcular_entropia_total\n",
    "- determinar_mejor_segmento"
   ]
  },
  {
   "cell_type": "markdown",
   "metadata": {},
   "source": [
    "# Verificar Pureza de los datos"
   ]
  },
  {
   "cell_type": "code",
   "execution_count": 31,
   "metadata": {},
   "outputs": [],
   "source": [
    "def verificar_pureza(data):\n",
    "    label_columna = data[:, -1]\n",
    "    valores_unicos = np.unique(label_columna)\n",
    "    \n",
    "    if len(valores_unicos) == 1:\n",
    "        return True\n",
    "    else:\n",
    "        return False"
   ]
  },
  {
   "cell_type": "code",
   "execution_count": 32,
   "metadata": {},
   "outputs": [
    {
     "data": {
      "text/plain": [
       "True"
      ]
     },
     "execution_count": 32,
     "metadata": {},
     "output_type": "execute_result"
    }
   ],
   "source": [
    "values = df_prueba[df_prueba['petal_width'] < 0.8].values\n",
    "verificar_pureza(values)"
   ]
  },
  {
   "cell_type": "markdown",
   "metadata": {},
   "source": [
    "# Clasificacion de los Datos"
   ]
  },
  {
   "cell_type": "code",
   "execution_count": 125,
   "metadata": {},
   "outputs": [],
   "source": [
    "def clasificar_data (data):\n",
    "    label_columna = data[:, -1]\n",
    "    valores_unicos, cont_valores_unicos = np.unique(label_columna, return_counts=True)\n",
    "    \n",
    "    indice = cont_valores_unicos.argmax()\n",
    "    clasificacion = valores_unicos[indice]\n",
    "    return clasificacion"
   ]
  },
  {
   "cell_type": "markdown",
   "metadata": {},
   "source": [
    "# Obtener los segmentos"
   ]
  },
  {
   "cell_type": "code",
   "execution_count": 126,
   "metadata": {},
   "outputs": [],
   "source": [
    "def obtener_posibles_segmentos(data):\n",
    "    posibles_segmentos = {}\n",
    "    _, n_columnas = data.shape\n",
    "    for columna_indice in range(n_columnas - 1):\n",
    "        valores = data[:, columna_indice]\n",
    "        valores_unicos = np.unique(valores)\n",
    "        posibles_segmentos[columna_indice] = valores_unicos\n",
    "        \n",
    "    return posibles_segmentos"
   ]
  },
  {
   "cell_type": "code",
   "execution_count": 127,
   "metadata": {},
   "outputs": [
    {
     "data": {
      "text/plain": [
       "{0: array([4.3, 4.4, 4.5, 4.6, 4.7, 4.8, 4.9, 5.0, 5.1, 5.2, 5.3, 5.4, 5.5,\n",
       "        5.6, 5.7, 5.8, 5.9, 6.0, 6.1, 6.2, 6.3, 6.4, 6.5, 6.6, 6.7, 6.8,\n",
       "        6.9, 7.0, 7.1, 7.2, 7.6, 7.7, 7.9], dtype=object),\n",
       " 1: array([2.0, 2.2, 2.3, 2.4, 2.5, 2.6, 2.7, 2.8, 2.9, 3.0, 3.1, 3.2, 3.3,\n",
       "        3.4, 3.5, 3.6, 3.7, 3.8, 3.9, 4.0, 4.1, 4.2, 4.4], dtype=object),\n",
       " 2: array([1.0, 1.1, 1.2, 1.3, 1.4, 1.5, 1.6, 1.7, 1.9, 3.3, 3.5, 3.7, 3.8,\n",
       "        3.9, 4.0, 4.1, 4.2, 4.3, 4.4, 4.5, 4.6, 4.7, 4.8, 4.9, 5.0, 5.1,\n",
       "        5.2, 5.3, 5.4, 5.5, 5.6, 5.7, 5.8, 5.9, 6.0, 6.1, 6.4, 6.6, 6.7,\n",
       "        6.9], dtype=object),\n",
       " 3: array([0.1, 0.2, 0.3, 0.4, 0.5, 0.6, 1.0, 1.1, 1.2, 1.3, 1.4, 1.5, 1.6,\n",
       "        1.7, 1.8, 1.9, 2.0, 2.1, 2.2, 2.3, 2.4, 2.5], dtype=object)}"
      ]
     },
     "execution_count": 127,
     "metadata": {},
     "output_type": "execute_result"
    }
   ],
   "source": [
    "posibles_segmentos = obtener_posibles_segmentos(df_entrenamiento.values)\n",
    "posibles_segmentos"
   ]
  },
  {
   "cell_type": "code",
   "execution_count": 128,
   "metadata": {},
   "outputs": [
    {
     "data": {
      "text/plain": [
       "<matplotlib.collections.LineCollection at 0x165421531c8>"
      ]
     },
     "execution_count": 128,
     "metadata": {},
     "output_type": "execute_result"
    },
    {
     "data": {
      "image/png": "[encoded data removed]",
      "text/plain": [
       "<Figure size 743.875x432 with 1 Axes>"
      ]
     },
     "metadata": {},
     "output_type": "display_data"
    }
   ],
   "source": [
    "sns.lmplot(data=df_entrenamiento, x='petal_width', y='petal_length',hue='label', fit_reg=False, height=6, aspect=1.5)\n",
    "plt.vlines(x=posibles_segmentos[3], ymin=1, ymax=7)"
   ]
  },
  {
   "cell_type": "markdown",
   "metadata": {},
   "source": [
    "# Segmentar los datos"
   ]
  },
  {
   "cell_type": "code",
   "execution_count": 158,
   "metadata": {},
   "outputs": [],
   "source": [
    "def segmentar_data(data, columna_segmentar, valor_segmentar):\n",
    "    valores_columna_seg = data[:, columna_segmentar]\n",
    "    \n",
    "    tipo_de_caracteristica = TIPO_CARACTERISTICA[columna_segmentar]\n",
    "    if tipo_de_caracteristica == 'continuo':\n",
    "        data_abajo = data[valores_columna_seg <= valor_segmentar]\n",
    "        data_arriba = data[valores_columna_seg > valor_segmentar]\n",
    "    # En el caso de que nuestra caracteristica sea categorica\n",
    "    else:\n",
    "        data_abajo = data[valores_columna_seg == valor_segmentar]\n",
    "        data_arriba = data[valores_columna_seg != valor_segmentar]\n",
    "        \n",
    "    return data_abajo, data_arriba\n"
   ]
  },
  {
   "cell_type": "markdown",
   "metadata": {},
   "source": [
    "# Determinar Entropia Mas Baja"
   ]
  },
  {
   "cell_type": "code",
   "execution_count": 130,
   "metadata": {},
   "outputs": [],
   "source": [
    "def calcular_entropia(data):\n",
    "    label_columna = data[:, -1]\n",
    "    _, cantidad = np.unique(label_columna, return_counts=True)\n",
    "    \n",
    "    probabilidad = cantidad / cantidad.sum()\n",
    "    entropia = sum(probabilidad * -np.log2(probabilidad))\n",
    "    \n",
    "    return entropia"
   ]
  },
  {
   "cell_type": "code",
   "execution_count": 131,
   "metadata": {},
   "outputs": [],
   "source": [
    "def calcular_entropia_total(data_abajo, data_arriba):\n",
    "    n = len(data_abajo) + len(data_arriba)\n",
    "    p_data_abajo = len(data_abajo) / n\n",
    "    p_data_arriba = len(data_arriba) / n\n",
    "    \n",
    "    entropia_total = (p_data_abajo * calcular_entropia(data_abajo)\n",
    "                     + p_data_arriba * calcular_entropia(data_arriba))\n",
    "    \n",
    "    return entropia_total"
   ]
  },
  {
   "cell_type": "code",
   "execution_count": 151,
   "metadata": {},
   "outputs": [],
   "source": [
    "def determinar_mejor_segmento(data, posibles_segmentos):\n",
    "    \n",
    "    entropia_total = 9999\n",
    "    for columna_indice in posibles_segmentos:\n",
    "        for valor in posibles_segmentos[columna_indice]:\n",
    "            data_abajo, data_arriba = segmentar_data(data, \n",
    "                                                     columna_segmentar=columna_indice, \n",
    "                                                     valor_segmentar=valor)\n",
    "            \n",
    "            entropia_total_actual = calcular_entropia_total(data_abajo, data_arriba)\n",
    "            \n",
    "            if entropia_total_actual <= entropia_total:\n",
    "                entropia_total = entropia_total_actual\n",
    "                mejor_columna_segmento = columna_indice\n",
    "                mejor_valor_segmento = valor\n",
    "                \n",
    "    return mejor_columna_segmento, mejor_valor_segmento"
   ]
  },
  {
   "cell_type": "code",
   "execution_count": 152,
   "metadata": {},
   "outputs": [
    {
     "data": {
      "text/plain": [
       "(3, 0.6)"
      ]
     },
     "execution_count": 152,
     "metadata": {},
     "output_type": "execute_result"
    }
   ],
   "source": [
    "determinar_mejor_segmento(df_entrenamiento.values, posibles_segmentos)"
   ]
  },
  {
   "cell_type": "markdown",
   "metadata": {},
   "source": [
    "# Algoritmo del Arbol de Decision"
   ]
  },
  {
   "cell_type": "markdown",
   "metadata": {},
   "source": [
    "Representacion de un arbol de decision."
   ]
  },
  {
   "cell_type": "code",
   "execution_count": 134,
   "metadata": {},
   "outputs": [
    {
     "data": {
      "text/plain": [
       "{'petal_width <= 0.8': ['Iris-setosa',\n",
       "  {'petal_width <= 1.65': [{'petal_length <= 4.9': ['Iris-versicolor',\n",
       "      'Iris-virginica']},\n",
       "    'Iris-virginica']}]}"
      ]
     },
     "execution_count": 134,
     "metadata": {},
     "output_type": "execute_result"
    }
   ],
   "source": [
    "ejemplo_arbol = {\"petal_width <= 0.8\": [\"Iris-setosa\", \n",
    "                                      {\"petal_width <= 1.65\": [{\"petal_length <= 4.9\": [\"Iris-versicolor\", \n",
    "                                                                                        \"Iris-virginica\"]}, \n",
    "                                                                \"Iris-virginica\"]}]}\n",
    "ejemplo_arbol\n",
    "                                                         "
   ]
  },
  {
   "cell_type": "code",
   "execution_count": 135,
   "metadata": {},
   "outputs": [],
   "source": [
    "def determinar_tipo_caracteristica(df):\n",
    "    tipo_caracteristicas = []\n",
    "    n_valores_unicos = 15\n",
    "    for caracteristica in df.columns:\n",
    "        if caracteristica != 'label':\n",
    "            valores_unicos = df[caracteristica].unique()\n",
    "            valor_ejemplo = valores_unicos[0]\n",
    "            # Verificamos el tipo de caracteristica\n",
    "            if (isinstance(valor_ejemplo, str)) or (len(valores_unicos) <= n_valores_unicos):\n",
    "                tipo_caracteristicas.append(\"categorico\")\n",
    "            else:\n",
    "                tipo_caracteristicas.append(\"continuo\")\n",
    "    return tipo_caracteristicas"
   ]
  },
  {
   "cell_type": "code",
   "execution_count": 136,
   "metadata": {},
   "outputs": [
    {
     "data": {
      "text/plain": [
       "['continuo', 'continuo', 'continuo', 'continuo']"
      ]
     },
     "execution_count": 136,
     "metadata": {},
     "output_type": "execute_result"
    }
   ],
   "source": [
    "determinar_tipo_caracteristica(df_entrenamiento)"
   ]
  },
  {
   "cell_type": "markdown",
   "metadata": {},
   "source": [
    "### Algoritmo"
   ]
  },
  {
   "cell_type": "code",
   "execution_count": 155,
   "metadata": {},
   "outputs": [],
   "source": [
    "sub_arbol = {\"question\": [\"yes_answer\", \n",
    "                         \"no_answer\"]}"
   ]
  },
  {
   "cell_type": "code",
   "execution_count": 156,
   "metadata": {},
   "outputs": [],
   "source": [
    "def algoritmo_arbol(df, contador=0, min_muestras=2, max_profundidad=5):\n",
    "    # Preparando los datos\n",
    "    if contador == 0:\n",
    "        global ENCABEZADOS, TIPO_CARACTERISTICA\n",
    "        ENCABEZADOS = df.columns\n",
    "        TIPO_CARACTERISTICA = determinar_tipo_caracteristica(df)\n",
    "        data = df.values\n",
    "    else:\n",
    "        data = df\n",
    "    \n",
    "    # Casos base\n",
    "    if (verificar_pureza(data)) or (len(data) < min_muestras) or (contador == max_profundidad):\n",
    "        clasificacion = clasificar_data(data)\n",
    "        return clasificacion\n",
    "    \n",
    "    # Parte Recursiva\n",
    "    else:\n",
    "        contador += 1\n",
    "        \n",
    "        # Llamar funciones de apoyo\n",
    "        posibles_segmentos = obtener_posibles_segmentos(data)\n",
    "        columna_segmento, valor_segmento = determinar_mejor_segmento(data, posibles_segmentos)\n",
    "        data_abajo, data_arriba = segmentar_data(data, columna_segmento, valor_segmento)\n",
    "        \n",
    "        # Verificar si existe algun segmento vacio\n",
    "        if len(data_abajo) == 0 or len(data_arriba) == 0:\n",
    "            clasificacion = clasificar_data(data)\n",
    "            return clasificacion\n",
    "        \n",
    "        # Determinar las condiciones del arbol\n",
    "        caracteristica = ENCABEZADOS[columna_segmento]\n",
    "        tipo_caracteristica = TIPO_CARACTERISTICA[columna_segmento]\n",
    "        if tipo_caracteristica == 'continuo':\n",
    "            pregunta = \"{} <= {}\".format(caracteristica, valor_segmento)\n",
    "        \n",
    "        # Si nuestra caracteristica es categorica\n",
    "        else:\n",
    "            pregunta = \"{} == {}\".format(caracteristica, valor_segmento)\n",
    "        \n",
    "        # Instanciar arbol\n",
    "        sub_arbol = {pregunta: []}\n",
    "        \n",
    "        # Encontrar Preguntas\n",
    "        si_respuesta = algoritmo_arbol(data_abajo, contador, min_muestras, max_profundidad)\n",
    "        no_respuesta = algoritmo_arbol(data_arriba, contador, min_muestras, max_profundidad)\n",
    "        \n",
    "        # En ciertos casos estas respuestas podrian ser iguales, \n",
    "        # lo cual no tendria ningun sentido, esto surge cuando\n",
    "        # se clasifican los datos a pesar de no ser puros\n",
    "        \n",
    "        if si_respuesta == no_respuesta:\n",
    "            sub_arbol = si_respuesta\n",
    "        else:\n",
    "            sub_arbol[pregunta].append(si_respuesta)\n",
    "            sub_arbol[pregunta].append(no_respuesta)\n",
    "        \n",
    "        return sub_arbol\n",
    "    "
   ]
  },
  {
   "cell_type": "code",
   "execution_count": 161,
   "metadata": {},
   "outputs": [
    {
     "name": "stdout",
     "output_type": "stream",
     "text": [
      "{'petal_width <= 0.6': ['Iris-setosa',\n",
      "                        {'petal_width <= 1.6': [{'petal_length <= 4.9': ['Iris-versicolor',\n",
      "                                                                         'Iris-virginica']},\n",
      "                                                'Iris-virginica']}]}\n"
     ]
    }
   ],
   "source": [
    "arbol = algoritmo_arbol(df_entrenamiento, max_profundidad=3)\n",
    "pprint(arbol)"
   ]
  },
  {
   "cell_type": "markdown",
   "metadata": {},
   "source": [
    "# Clasificacion de Datos de Prueba "
   ]
  },
  {
   "cell_type": "code",
   "execution_count": 176,
   "metadata": {},
   "outputs": [
    {
     "data": {
      "text/plain": [
       "sepal_length            5.4\n",
       "sepal_width             3.7\n",
       "petal_length            1.5\n",
       "petal_width             0.2\n",
       "label           Iris-setosa\n",
       "Name: 10, dtype: object"
      ]
     },
     "execution_count": 176,
     "metadata": {},
     "output_type": "execute_result"
    }
   ],
   "source": [
    "ejemplo = df_prueba.iloc[2]\n",
    "ejemplo"
   ]
  },
  {
   "cell_type": "code",
   "execution_count": 172,
   "metadata": {},
   "outputs": [],
   "source": [
    "def clasificar_ejemplo(ejemplo, arbol):\n",
    "    pregunta = list(arbol.keys())[0]\n",
    "    caracteristica, operador_comparativo, valor = pregunta.split(\" \")\n",
    "    \n",
    "    if operador_comparativo == \"<=\":\n",
    "        if ejemplo[caracteristica] <= float(valor):\n",
    "            respuesta = arbol[pregunta][0]\n",
    "        else:\n",
    "            respuesta = arbol[pregunta][1]\n",
    "        \n",
    "    else:\n",
    "        if str(ejemplo[caracteristica]) == valor:\n",
    "            respuesta = arbol[pregunta][0]\n",
    "        else:\n",
    "            respuesta = arbol[pregunta][1]\n",
    "            \n",
    "    # caso base\n",
    "    if not isinstance(respuesta, dict):\n",
    "        return respuesta\n",
    "    # parte recursiva\n",
    "    else:\n",
    "        arbol_residual = respuesta\n",
    "        return clasificar_ejemplo(ejemplo, arbol_residual)"
   ]
  },
  {
   "cell_type": "code",
   "execution_count": 177,
   "metadata": {},
   "outputs": [
    {
     "data": {
      "text/plain": [
       "'Iris-setosa'"
      ]
     },
     "execution_count": 177,
     "metadata": {},
     "output_type": "execute_result"
    }
   ],
   "source": [
    "clasificar_ejemplo(ejemplo, arbol)"
   ]
  },
  {
   "cell_type": "markdown",
   "metadata": {},
   "source": [
    "# Calcular Precision"
   ]
  },
  {
   "cell_type": "code",
   "execution_count": 197,
   "metadata": {},
   "outputs": [],
   "source": [
    "def calcular_precision(df, arbol):\n",
    "    df['clasificacion'] = df.apply(clasificar_ejemplo, axis=1, args=(arbol,))\n",
    "    df['cls_correcta']= df['clasificacion'] == df['label']\n",
    "    \n",
    "    precision = df['cls_correcta'].mean()\n",
    "    \n",
    "    return precision"
   ]
  },
  {
   "cell_type": "code",
   "execution_count": 346,
   "metadata": {},
   "outputs": [
    {
     "name": "stdout",
     "output_type": "stream",
     "text": [
      "{'petal_width <= 0.6': ['Iris-setosa',\n",
      "                        {'petal_length <= 4.7': [{'petal_width <= 1.6': ['Iris-versicolor',\n",
      "                                                                         'Iris-virginica']},\n",
      "                                                 'Iris-virginica']}]}\n",
      "0.9333333333333333\n"
     ]
    }
   ],
   "source": [
    "df_entrenamiento, df_prueba = entrenamiento_prueba_split(df, tamanio_prueba=0.2)\n",
    "arbol = algoritmo_arbol(df_entrenamiento, max_profundidad=3)\n",
    "precision = calcular_precision(df_prueba, arbol)\n",
    "\n",
    "pprint(arbol)\n",
    "print(precision)"
   ]
  },
  {
   "cell_type": "markdown",
   "metadata": {},
   "source": [
    "# Verifica"
   ]
  },
  {
   "cell_type": "code",
   "execution_count": 266,
   "metadata": {},
   "outputs": [
    {
     "data": {
      "text/html": [
       "<div>\n",
       "<style scoped>\n",
       "    .dataframe tbody tr th:only-of-type {\n",
       "        vertical-align: middle;\n",
       "    }\n",
       "\n",
       "    .dataframe tbody tr th {\n",
       "        vertical-align: top;\n",
       "    }\n",
       "\n",
       "    .dataframe thead th {\n",
       "        text-align: right;\n",
       "    }\n",
       "</style>\n",
       "<table border=\"1\" class=\"dataframe\">\n",
       "  <thead>\n",
       "    <tr style=\"text-align: right;\">\n",
       "      <th></th>\n",
       "      <th>sepal_length</th>\n",
       "      <th>sepal_width</th>\n",
       "      <th>petal_length</th>\n",
       "      <th>petal_width</th>\n",
       "      <th>label</th>\n",
       "      <th>clasificacion</th>\n",
       "      <th>cls_correcta</th>\n",
       "    </tr>\n",
       "  </thead>\n",
       "  <tbody>\n",
       "    <tr>\n",
       "      <th>98</th>\n",
       "      <td>5.1</td>\n",
       "      <td>2.5</td>\n",
       "      <td>3.0</td>\n",
       "      <td>1.1</td>\n",
       "      <td>Iris-versicolor</td>\n",
       "      <td>Iris-versicolor</td>\n",
       "      <td>True</td>\n",
       "    </tr>\n",
       "    <tr>\n",
       "      <th>107</th>\n",
       "      <td>7.3</td>\n",
       "      <td>2.9</td>\n",
       "      <td>6.3</td>\n",
       "      <td>1.8</td>\n",
       "      <td>Iris-virginica</td>\n",
       "      <td>Iris-virginica</td>\n",
       "      <td>True</td>\n",
       "    </tr>\n",
       "    <tr>\n",
       "      <th>10</th>\n",
       "      <td>5.4</td>\n",
       "      <td>3.7</td>\n",
       "      <td>1.5</td>\n",
       "      <td>0.2</td>\n",
       "      <td>Iris-setosa</td>\n",
       "      <td>Iris-setosa</td>\n",
       "      <td>True</td>\n",
       "    </tr>\n",
       "    <tr>\n",
       "      <th>66</th>\n",
       "      <td>5.6</td>\n",
       "      <td>3.0</td>\n",
       "      <td>4.5</td>\n",
       "      <td>1.5</td>\n",
       "      <td>Iris-versicolor</td>\n",
       "      <td>Iris-versicolor</td>\n",
       "      <td>True</td>\n",
       "    </tr>\n",
       "    <tr>\n",
       "      <th>130</th>\n",
       "      <td>7.4</td>\n",
       "      <td>2.8</td>\n",
       "      <td>6.1</td>\n",
       "      <td>1.9</td>\n",
       "      <td>Iris-virginica</td>\n",
       "      <td>Iris-virginica</td>\n",
       "      <td>True</td>\n",
       "    </tr>\n",
       "    <tr>\n",
       "      <th>124</th>\n",
       "      <td>6.7</td>\n",
       "      <td>3.3</td>\n",
       "      <td>5.7</td>\n",
       "      <td>2.1</td>\n",
       "      <td>Iris-virginica</td>\n",
       "      <td>Iris-virginica</td>\n",
       "      <td>True</td>\n",
       "    </tr>\n",
       "    <tr>\n",
       "      <th>103</th>\n",
       "      <td>6.3</td>\n",
       "      <td>2.9</td>\n",
       "      <td>5.6</td>\n",
       "      <td>1.8</td>\n",
       "      <td>Iris-virginica</td>\n",
       "      <td>Iris-virginica</td>\n",
       "      <td>True</td>\n",
       "    </tr>\n",
       "    <tr>\n",
       "      <th>77</th>\n",
       "      <td>6.7</td>\n",
       "      <td>3.0</td>\n",
       "      <td>5.0</td>\n",
       "      <td>1.7</td>\n",
       "      <td>Iris-versicolor</td>\n",
       "      <td>Iris-virginica</td>\n",
       "      <td>False</td>\n",
       "    </tr>\n",
       "    <tr>\n",
       "      <th>122</th>\n",
       "      <td>7.7</td>\n",
       "      <td>2.8</td>\n",
       "      <td>6.7</td>\n",
       "      <td>2.0</td>\n",
       "      <td>Iris-virginica</td>\n",
       "      <td>Iris-virginica</td>\n",
       "      <td>True</td>\n",
       "    </tr>\n",
       "    <tr>\n",
       "      <th>91</th>\n",
       "      <td>6.1</td>\n",
       "      <td>3.0</td>\n",
       "      <td>4.6</td>\n",
       "      <td>1.4</td>\n",
       "      <td>Iris-versicolor</td>\n",
       "      <td>Iris-versicolor</td>\n",
       "      <td>True</td>\n",
       "    </tr>\n",
       "    <tr>\n",
       "      <th>149</th>\n",
       "      <td>5.9</td>\n",
       "      <td>3.0</td>\n",
       "      <td>5.1</td>\n",
       "      <td>1.8</td>\n",
       "      <td>Iris-virginica</td>\n",
       "      <td>Iris-virginica</td>\n",
       "      <td>True</td>\n",
       "    </tr>\n",
       "    <tr>\n",
       "      <th>55</th>\n",
       "      <td>5.7</td>\n",
       "      <td>2.8</td>\n",
       "      <td>4.5</td>\n",
       "      <td>1.3</td>\n",
       "      <td>Iris-versicolor</td>\n",
       "      <td>Iris-versicolor</td>\n",
       "      <td>True</td>\n",
       "    </tr>\n",
       "    <tr>\n",
       "      <th>129</th>\n",
       "      <td>7.2</td>\n",
       "      <td>3.0</td>\n",
       "      <td>5.8</td>\n",
       "      <td>1.6</td>\n",
       "      <td>Iris-virginica</td>\n",
       "      <td>Iris-virginica</td>\n",
       "      <td>True</td>\n",
       "    </tr>\n",
       "    <tr>\n",
       "      <th>35</th>\n",
       "      <td>5.0</td>\n",
       "      <td>3.2</td>\n",
       "      <td>1.2</td>\n",
       "      <td>0.2</td>\n",
       "      <td>Iris-setosa</td>\n",
       "      <td>Iris-setosa</td>\n",
       "      <td>True</td>\n",
       "    </tr>\n",
       "    <tr>\n",
       "      <th>72</th>\n",
       "      <td>6.3</td>\n",
       "      <td>2.5</td>\n",
       "      <td>4.9</td>\n",
       "      <td>1.5</td>\n",
       "      <td>Iris-versicolor</td>\n",
       "      <td>Iris-versicolor</td>\n",
       "      <td>True</td>\n",
       "    </tr>\n",
       "    <tr>\n",
       "      <th>24</th>\n",
       "      <td>4.8</td>\n",
       "      <td>3.4</td>\n",
       "      <td>1.9</td>\n",
       "      <td>0.2</td>\n",
       "      <td>Iris-setosa</td>\n",
       "      <td>Iris-setosa</td>\n",
       "      <td>True</td>\n",
       "    </tr>\n",
       "    <tr>\n",
       "      <th>64</th>\n",
       "      <td>5.6</td>\n",
       "      <td>2.9</td>\n",
       "      <td>3.6</td>\n",
       "      <td>1.3</td>\n",
       "      <td>Iris-versicolor</td>\n",
       "      <td>Iris-versicolor</td>\n",
       "      <td>True</td>\n",
       "    </tr>\n",
       "    <tr>\n",
       "      <th>136</th>\n",
       "      <td>6.3</td>\n",
       "      <td>3.4</td>\n",
       "      <td>5.6</td>\n",
       "      <td>2.4</td>\n",
       "      <td>Iris-virginica</td>\n",
       "      <td>Iris-virginica</td>\n",
       "      <td>True</td>\n",
       "    </tr>\n",
       "    <tr>\n",
       "      <th>37</th>\n",
       "      <td>4.9</td>\n",
       "      <td>3.1</td>\n",
       "      <td>1.5</td>\n",
       "      <td>0.1</td>\n",
       "      <td>Iris-setosa</td>\n",
       "      <td>Iris-setosa</td>\n",
       "      <td>True</td>\n",
       "    </tr>\n",
       "    <tr>\n",
       "      <th>79</th>\n",
       "      <td>5.7</td>\n",
       "      <td>2.6</td>\n",
       "      <td>3.5</td>\n",
       "      <td>1.0</td>\n",
       "      <td>Iris-versicolor</td>\n",
       "      <td>Iris-versicolor</td>\n",
       "      <td>True</td>\n",
       "    </tr>\n",
       "  </tbody>\n",
       "</table>\n",
       "</div>"
      ],
      "text/plain": [
       "     sepal_length  sepal_width  petal_length  petal_width            label  \\\n",
       "98            5.1          2.5           3.0          1.1  Iris-versicolor   \n",
       "107           7.3          2.9           6.3          1.8   Iris-virginica   \n",
       "10            5.4          3.7           1.5          0.2      Iris-setosa   \n",
       "66            5.6          3.0           4.5          1.5  Iris-versicolor   \n",
       "130           7.4          2.8           6.1          1.9   Iris-virginica   \n",
       "124           6.7          3.3           5.7          2.1   Iris-virginica   \n",
       "103           6.3          2.9           5.6          1.8   Iris-virginica   \n",
       "77            6.7          3.0           5.0          1.7  Iris-versicolor   \n",
       "122           7.7          2.8           6.7          2.0   Iris-virginica   \n",
       "91            6.1          3.0           4.6          1.4  Iris-versicolor   \n",
       "149           5.9          3.0           5.1          1.8   Iris-virginica   \n",
       "55            5.7          2.8           4.5          1.3  Iris-versicolor   \n",
       "129           7.2          3.0           5.8          1.6   Iris-virginica   \n",
       "35            5.0          3.2           1.2          0.2      Iris-setosa   \n",
       "72            6.3          2.5           4.9          1.5  Iris-versicolor   \n",
       "24            4.8          3.4           1.9          0.2      Iris-setosa   \n",
       "64            5.6          2.9           3.6          1.3  Iris-versicolor   \n",
       "136           6.3          3.4           5.6          2.4   Iris-virginica   \n",
       "37            4.9          3.1           1.5          0.1      Iris-setosa   \n",
       "79            5.7          2.6           3.5          1.0  Iris-versicolor   \n",
       "\n",
       "       clasificacion  cls_correcta  \n",
       "98   Iris-versicolor          True  \n",
       "107   Iris-virginica          True  \n",
       "10       Iris-setosa          True  \n",
       "66   Iris-versicolor          True  \n",
       "130   Iris-virginica          True  \n",
       "124   Iris-virginica          True  \n",
       "103   Iris-virginica          True  \n",
       "77    Iris-virginica         False  \n",
       "122   Iris-virginica          True  \n",
       "91   Iris-versicolor          True  \n",
       "149   Iris-virginica          True  \n",
       "55   Iris-versicolor          True  \n",
       "129   Iris-virginica          True  \n",
       "35       Iris-setosa          True  \n",
       "72   Iris-versicolor          True  \n",
       "24       Iris-setosa          True  \n",
       "64   Iris-versicolor          True  \n",
       "136   Iris-virginica          True  \n",
       "37       Iris-setosa          True  \n",
       "79   Iris-versicolor          True  "
      ]
     },
     "execution_count": 266,
     "metadata": {},
     "output_type": "execute_result"
    }
   ],
   "source": [
    "df_prueba"
   ]
  },
  {
   "cell_type": "code",
   "execution_count": 202,
   "metadata": {},
   "outputs": [
    {
     "data": {
      "text/plain": [
       "<seaborn.axisgrid.FacetGrid at 0x16545d43e88>"
      ]
     },
     "execution_count": 202,
     "metadata": {},
     "output_type": "execute_result"
    },
    {
     "data": {
      "image/png": "[encoded data removed]",
      "text/plain": [
       "<Figure size 743.875x432 with 1 Axes>"
      ]
     },
     "metadata": {},
     "output_type": "display_data"
    }
   ],
   "source": [
    "sns.lmplot(data=df_prueba, x=\"petal_width\", y=\"petal_length\", hue=\"clasificacion\", fit_reg=False, height=6, aspect=1.5)"
   ]
  },
  {
   "cell_type": "markdown",
   "metadata": {},
   "source": [
    "# Predecir Muertos del Titanic"
   ]
  },
  {
   "cell_type": "markdown",
   "metadata": {},
   "source": [
    "### Preparar los datos"
   ]
  },
  {
   "cell_type": "code",
   "execution_count": 214,
   "metadata": {},
   "outputs": [],
   "source": [
    "df_titanic = pd.read_csv('../data/Titanic.csv')"
   ]
  },
  {
   "cell_type": "code",
   "execution_count": 215,
   "metadata": {},
   "outputs": [],
   "source": [
    "# Eliminar columnas innceserarias\n",
    "df_titanic['label'] = df_titanic.Survived\n",
    "df_titanic = df_titanic.drop(['PassengerId', 'Survived', 'Name', 'Ticket', 'Cabin'], axis=1)"
   ]
  },
  {
   "cell_type": "code",
   "execution_count": 216,
   "metadata": {},
   "outputs": [
    {
     "data": {
      "text/html": [
       "<div>\n",
       "<style scoped>\n",
       "    .dataframe tbody tr th:only-of-type {\n",
       "        vertical-align: middle;\n",
       "    }\n",
       "\n",
       "    .dataframe tbody tr th {\n",
       "        vertical-align: top;\n",
       "    }\n",
       "\n",
       "    .dataframe thead th {\n",
       "        text-align: right;\n",
       "    }\n",
       "</style>\n",
       "<table border=\"1\" class=\"dataframe\">\n",
       "  <thead>\n",
       "    <tr style=\"text-align: right;\">\n",
       "      <th></th>\n",
       "      <th>Pclass</th>\n",
       "      <th>Sex</th>\n",
       "      <th>Age</th>\n",
       "      <th>SibSp</th>\n",
       "      <th>Parch</th>\n",
       "      <th>Fare</th>\n",
       "      <th>Embarked</th>\n",
       "      <th>label</th>\n",
       "    </tr>\n",
       "  </thead>\n",
       "  <tbody>\n",
       "    <tr>\n",
       "      <th>0</th>\n",
       "      <td>3</td>\n",
       "      <td>male</td>\n",
       "      <td>22.0</td>\n",
       "      <td>1</td>\n",
       "      <td>0</td>\n",
       "      <td>7.2500</td>\n",
       "      <td>S</td>\n",
       "      <td>0</td>\n",
       "    </tr>\n",
       "    <tr>\n",
       "      <th>1</th>\n",
       "      <td>1</td>\n",
       "      <td>female</td>\n",
       "      <td>38.0</td>\n",
       "      <td>1</td>\n",
       "      <td>0</td>\n",
       "      <td>71.2833</td>\n",
       "      <td>C</td>\n",
       "      <td>1</td>\n",
       "    </tr>\n",
       "    <tr>\n",
       "      <th>2</th>\n",
       "      <td>3</td>\n",
       "      <td>female</td>\n",
       "      <td>26.0</td>\n",
       "      <td>0</td>\n",
       "      <td>0</td>\n",
       "      <td>7.9250</td>\n",
       "      <td>S</td>\n",
       "      <td>1</td>\n",
       "    </tr>\n",
       "    <tr>\n",
       "      <th>3</th>\n",
       "      <td>1</td>\n",
       "      <td>female</td>\n",
       "      <td>35.0</td>\n",
       "      <td>1</td>\n",
       "      <td>0</td>\n",
       "      <td>53.1000</td>\n",
       "      <td>S</td>\n",
       "      <td>1</td>\n",
       "    </tr>\n",
       "    <tr>\n",
       "      <th>4</th>\n",
       "      <td>3</td>\n",
       "      <td>male</td>\n",
       "      <td>35.0</td>\n",
       "      <td>0</td>\n",
       "      <td>0</td>\n",
       "      <td>8.0500</td>\n",
       "      <td>S</td>\n",
       "      <td>0</td>\n",
       "    </tr>\n",
       "  </tbody>\n",
       "</table>\n",
       "</div>"
      ],
      "text/plain": [
       "   Pclass     Sex   Age  SibSp  Parch     Fare Embarked  label\n",
       "0       3    male  22.0      1      0   7.2500        S      0\n",
       "1       1  female  38.0      1      0  71.2833        C      1\n",
       "2       3  female  26.0      0      0   7.9250        S      1\n",
       "3       1  female  35.0      1      0  53.1000        S      1\n",
       "4       3    male  35.0      0      0   8.0500        S      0"
      ]
     },
     "execution_count": 216,
     "metadata": {},
     "output_type": "execute_result"
    }
   ],
   "source": [
    "df_titanic.head()"
   ]
  },
  {
   "cell_type": "code",
   "execution_count": 217,
   "metadata": {},
   "outputs": [
    {
     "name": "stdout",
     "output_type": "stream",
     "text": [
      "<class 'pandas.core.frame.DataFrame'>\n",
      "RangeIndex: 891 entries, 0 to 890\n",
      "Data columns (total 8 columns):\n",
      " #   Column    Non-Null Count  Dtype  \n",
      "---  ------    --------------  -----  \n",
      " 0   Pclass    891 non-null    int64  \n",
      " 1   Sex       891 non-null    object \n",
      " 2   Age       714 non-null    float64\n",
      " 3   SibSp     891 non-null    int64  \n",
      " 4   Parch     891 non-null    int64  \n",
      " 5   Fare      891 non-null    float64\n",
      " 6   Embarked  889 non-null    object \n",
      " 7   label     891 non-null    int64  \n",
      "dtypes: float64(2), int64(4), object(2)\n",
      "memory usage: 55.8+ KB\n"
     ]
    }
   ],
   "source": [
    "# Verificamos si hay datos nulos\n",
    "df_titanic.info()"
   ]
  },
  {
   "cell_type": "code",
   "execution_count": 300,
   "metadata": {},
   "outputs": [
    {
     "name": "stdout",
     "output_type": "stream",
     "text": [
      "<class 'pandas.core.frame.DataFrame'>\n",
      "RangeIndex: 891 entries, 0 to 890\n",
      "Data columns (total 8 columns):\n",
      " #   Column    Non-Null Count  Dtype  \n",
      "---  ------    --------------  -----  \n",
      " 0   Pclass    891 non-null    int64  \n",
      " 1   Sex       891 non-null    object \n",
      " 2   Age       891 non-null    float64\n",
      " 3   SibSp     891 non-null    int64  \n",
      " 4   Parch     891 non-null    int64  \n",
      " 5   Fare      891 non-null    float64\n",
      " 6   Embarked  891 non-null    object \n",
      " 7   label     891 non-null    int64  \n",
      "dtypes: float64(2), int64(4), object(2)\n",
      "memory usage: 55.8+ KB\n"
     ]
    }
   ],
   "source": [
    "# Eliminar datos nulos\n",
    "edad_media = df_titanic.Age.median()\n",
    "emb_moda = df_titanic.Embarked.mode()[0]\n",
    "\n",
    "df_titanic = df_titanic.fillna({\"Age\": edad_media, \"Embarked\": emb_moda})\n",
    "df_titanic.info()"
   ]
  },
  {
   "cell_type": "markdown",
   "metadata": {},
   "source": [
    "## Probar el Algoritmo"
   ]
  },
  {
   "cell_type": "code",
   "execution_count": 269,
   "metadata": {},
   "outputs": [
    {
     "name": "stdout",
     "output_type": "stream",
     "text": [
      "{'Sex == male': [{'Fare <= 26.25': [{'Age <= 12.0': [1, 0]},\n",
      "                                    {'Fare <= 26.3875': [1, 0]}]},\n",
      "                 {'Pclass == 3': [{'Fare <= 24.15': [1, 0]}, 1]}]}\n",
      "0.9\n"
     ]
    }
   ],
   "source": [
    "df_entrenamiento, df_prueba = entrenamiento_prueba_split(df_titanic, tamanio_prueba=20)\n",
    "arbol = algoritmo_arbol(df_entrenamiento, max_profundidad=3)\n",
    "precision = calcular_precision(df_prueba, arbol)\n",
    "\n",
    "pprint(arbol)\n",
    "print(precision)"
   ]
  },
  {
   "cell_type": "markdown",
   "metadata": {},
   "source": [
    "## Prueba con un solo dato"
   ]
  },
  {
   "cell_type": "code",
   "execution_count": 271,
   "metadata": {},
   "outputs": [
    {
     "data": {
      "text/plain": [
       "Pclass                 3\n",
       "Sex                 male\n",
       "Age                   16\n",
       "SibSp                  4\n",
       "Parch                  1\n",
       "Fare             39.6875\n",
       "Embarked               S\n",
       "label                  0\n",
       "clasificacion          0\n",
       "cls_correcta        True\n",
       "Name: 266, dtype: object"
      ]
     },
     "execution_count": 271,
     "metadata": {},
     "output_type": "execute_result"
    }
   ],
   "source": [
    "ejemplo = df_prueba.iloc[0]\n",
    "ejemplo"
   ]
  },
  {
   "cell_type": "code",
   "execution_count": 273,
   "metadata": {},
   "outputs": [
    {
     "data": {
      "text/plain": [
       "0"
      ]
     },
     "execution_count": 273,
     "metadata": {},
     "output_type": "execute_result"
    }
   ],
   "source": [
    "clasificar_ejemplo(ejemplo, arbol)"
   ]
  },
  {
   "cell_type": "markdown",
   "metadata": {},
   "source": [
    "## Verificar todos los datos de prueba"
   ]
  },
  {
   "cell_type": "code",
   "execution_count": 268,
   "metadata": {},
   "outputs": [
    {
     "data": {
      "text/html": [
       "<div>\n",
       "<style scoped>\n",
       "    .dataframe tbody tr th:only-of-type {\n",
       "        vertical-align: middle;\n",
       "    }\n",
       "\n",
       "    .dataframe tbody tr th {\n",
       "        vertical-align: top;\n",
       "    }\n",
       "\n",
       "    .dataframe thead th {\n",
       "        text-align: right;\n",
       "    }\n",
       "</style>\n",
       "<table border=\"1\" class=\"dataframe\">\n",
       "  <thead>\n",
       "    <tr style=\"text-align: right;\">\n",
       "      <th></th>\n",
       "      <th>Pclass</th>\n",
       "      <th>Sex</th>\n",
       "      <th>Age</th>\n",
       "      <th>SibSp</th>\n",
       "      <th>Parch</th>\n",
       "      <th>Fare</th>\n",
       "      <th>Embarked</th>\n",
       "      <th>label</th>\n",
       "      <th>clasificacion</th>\n",
       "      <th>cls_correcta</th>\n",
       "    </tr>\n",
       "  </thead>\n",
       "  <tbody>\n",
       "    <tr>\n",
       "      <th>101</th>\n",
       "      <td>3</td>\n",
       "      <td>male</td>\n",
       "      <td>28.0</td>\n",
       "      <td>0</td>\n",
       "      <td>0</td>\n",
       "      <td>7.8958</td>\n",
       "      <td>S</td>\n",
       "      <td>0</td>\n",
       "      <td>0</td>\n",
       "      <td>True</td>\n",
       "    </tr>\n",
       "    <tr>\n",
       "      <th>747</th>\n",
       "      <td>2</td>\n",
       "      <td>female</td>\n",
       "      <td>30.0</td>\n",
       "      <td>0</td>\n",
       "      <td>0</td>\n",
       "      <td>13.0000</td>\n",
       "      <td>S</td>\n",
       "      <td>1</td>\n",
       "      <td>1</td>\n",
       "      <td>True</td>\n",
       "    </tr>\n",
       "    <tr>\n",
       "      <th>75</th>\n",
       "      <td>3</td>\n",
       "      <td>male</td>\n",
       "      <td>25.0</td>\n",
       "      <td>0</td>\n",
       "      <td>0</td>\n",
       "      <td>7.6500</td>\n",
       "      <td>S</td>\n",
       "      <td>0</td>\n",
       "      <td>0</td>\n",
       "      <td>True</td>\n",
       "    </tr>\n",
       "    <tr>\n",
       "      <th>870</th>\n",
       "      <td>3</td>\n",
       "      <td>male</td>\n",
       "      <td>26.0</td>\n",
       "      <td>0</td>\n",
       "      <td>0</td>\n",
       "      <td>7.8958</td>\n",
       "      <td>S</td>\n",
       "      <td>0</td>\n",
       "      <td>0</td>\n",
       "      <td>True</td>\n",
       "    </tr>\n",
       "    <tr>\n",
       "      <th>700</th>\n",
       "      <td>1</td>\n",
       "      <td>female</td>\n",
       "      <td>18.0</td>\n",
       "      <td>1</td>\n",
       "      <td>0</td>\n",
       "      <td>227.5250</td>\n",
       "      <td>C</td>\n",
       "      <td>1</td>\n",
       "      <td>1</td>\n",
       "      <td>True</td>\n",
       "    </tr>\n",
       "    <tr>\n",
       "      <th>338</th>\n",
       "      <td>3</td>\n",
       "      <td>male</td>\n",
       "      <td>45.0</td>\n",
       "      <td>0</td>\n",
       "      <td>0</td>\n",
       "      <td>8.0500</td>\n",
       "      <td>S</td>\n",
       "      <td>1</td>\n",
       "      <td>0</td>\n",
       "      <td>False</td>\n",
       "    </tr>\n",
       "    <tr>\n",
       "      <th>483</th>\n",
       "      <td>3</td>\n",
       "      <td>female</td>\n",
       "      <td>63.0</td>\n",
       "      <td>0</td>\n",
       "      <td>0</td>\n",
       "      <td>9.5875</td>\n",
       "      <td>S</td>\n",
       "      <td>1</td>\n",
       "      <td>1</td>\n",
       "      <td>True</td>\n",
       "    </tr>\n",
       "    <tr>\n",
       "      <th>573</th>\n",
       "      <td>3</td>\n",
       "      <td>female</td>\n",
       "      <td>28.0</td>\n",
       "      <td>0</td>\n",
       "      <td>0</td>\n",
       "      <td>7.7500</td>\n",
       "      <td>Q</td>\n",
       "      <td>1</td>\n",
       "      <td>1</td>\n",
       "      <td>True</td>\n",
       "    </tr>\n",
       "    <tr>\n",
       "      <th>103</th>\n",
       "      <td>3</td>\n",
       "      <td>male</td>\n",
       "      <td>33.0</td>\n",
       "      <td>0</td>\n",
       "      <td>0</td>\n",
       "      <td>8.6542</td>\n",
       "      <td>S</td>\n",
       "      <td>0</td>\n",
       "      <td>0</td>\n",
       "      <td>True</td>\n",
       "    </tr>\n",
       "    <tr>\n",
       "      <th>362</th>\n",
       "      <td>3</td>\n",
       "      <td>female</td>\n",
       "      <td>45.0</td>\n",
       "      <td>0</td>\n",
       "      <td>1</td>\n",
       "      <td>14.4542</td>\n",
       "      <td>C</td>\n",
       "      <td>0</td>\n",
       "      <td>1</td>\n",
       "      <td>False</td>\n",
       "    </tr>\n",
       "    <tr>\n",
       "      <th>444</th>\n",
       "      <td>3</td>\n",
       "      <td>male</td>\n",
       "      <td>28.0</td>\n",
       "      <td>0</td>\n",
       "      <td>0</td>\n",
       "      <td>8.1125</td>\n",
       "      <td>S</td>\n",
       "      <td>1</td>\n",
       "      <td>0</td>\n",
       "      <td>False</td>\n",
       "    </tr>\n",
       "    <tr>\n",
       "      <th>323</th>\n",
       "      <td>2</td>\n",
       "      <td>female</td>\n",
       "      <td>22.0</td>\n",
       "      <td>1</td>\n",
       "      <td>1</td>\n",
       "      <td>29.0000</td>\n",
       "      <td>S</td>\n",
       "      <td>1</td>\n",
       "      <td>1</td>\n",
       "      <td>True</td>\n",
       "    </tr>\n",
       "    <tr>\n",
       "      <th>625</th>\n",
       "      <td>1</td>\n",
       "      <td>male</td>\n",
       "      <td>61.0</td>\n",
       "      <td>0</td>\n",
       "      <td>0</td>\n",
       "      <td>32.3208</td>\n",
       "      <td>S</td>\n",
       "      <td>0</td>\n",
       "      <td>0</td>\n",
       "      <td>True</td>\n",
       "    </tr>\n",
       "    <tr>\n",
       "      <th>655</th>\n",
       "      <td>2</td>\n",
       "      <td>male</td>\n",
       "      <td>24.0</td>\n",
       "      <td>2</td>\n",
       "      <td>0</td>\n",
       "      <td>73.5000</td>\n",
       "      <td>S</td>\n",
       "      <td>0</td>\n",
       "      <td>0</td>\n",
       "      <td>True</td>\n",
       "    </tr>\n",
       "    <tr>\n",
       "      <th>209</th>\n",
       "      <td>1</td>\n",
       "      <td>male</td>\n",
       "      <td>40.0</td>\n",
       "      <td>0</td>\n",
       "      <td>0</td>\n",
       "      <td>31.0000</td>\n",
       "      <td>C</td>\n",
       "      <td>1</td>\n",
       "      <td>0</td>\n",
       "      <td>False</td>\n",
       "    </tr>\n",
       "    <tr>\n",
       "      <th>565</th>\n",
       "      <td>3</td>\n",
       "      <td>male</td>\n",
       "      <td>24.0</td>\n",
       "      <td>2</td>\n",
       "      <td>0</td>\n",
       "      <td>24.1500</td>\n",
       "      <td>S</td>\n",
       "      <td>0</td>\n",
       "      <td>0</td>\n",
       "      <td>True</td>\n",
       "    </tr>\n",
       "    <tr>\n",
       "      <th>488</th>\n",
       "      <td>3</td>\n",
       "      <td>male</td>\n",
       "      <td>30.0</td>\n",
       "      <td>0</td>\n",
       "      <td>0</td>\n",
       "      <td>8.0500</td>\n",
       "      <td>S</td>\n",
       "      <td>0</td>\n",
       "      <td>0</td>\n",
       "      <td>True</td>\n",
       "    </tr>\n",
       "    <tr>\n",
       "      <th>453</th>\n",
       "      <td>1</td>\n",
       "      <td>male</td>\n",
       "      <td>49.0</td>\n",
       "      <td>1</td>\n",
       "      <td>0</td>\n",
       "      <td>89.1042</td>\n",
       "      <td>C</td>\n",
       "      <td>1</td>\n",
       "      <td>0</td>\n",
       "      <td>False</td>\n",
       "    </tr>\n",
       "    <tr>\n",
       "      <th>886</th>\n",
       "      <td>2</td>\n",
       "      <td>male</td>\n",
       "      <td>27.0</td>\n",
       "      <td>0</td>\n",
       "      <td>0</td>\n",
       "      <td>13.0000</td>\n",
       "      <td>S</td>\n",
       "      <td>0</td>\n",
       "      <td>0</td>\n",
       "      <td>True</td>\n",
       "    </tr>\n",
       "    <tr>\n",
       "      <th>533</th>\n",
       "      <td>3</td>\n",
       "      <td>female</td>\n",
       "      <td>28.0</td>\n",
       "      <td>0</td>\n",
       "      <td>2</td>\n",
       "      <td>22.3583</td>\n",
       "      <td>C</td>\n",
       "      <td>1</td>\n",
       "      <td>1</td>\n",
       "      <td>True</td>\n",
       "    </tr>\n",
       "  </tbody>\n",
       "</table>\n",
       "</div>"
      ],
      "text/plain": [
       "     Pclass     Sex   Age  SibSp  Parch      Fare Embarked  label  \\\n",
       "101       3    male  28.0      0      0    7.8958        S      0   \n",
       "747       2  female  30.0      0      0   13.0000        S      1   \n",
       "75        3    male  25.0      0      0    7.6500        S      0   \n",
       "870       3    male  26.0      0      0    7.8958        S      0   \n",
       "700       1  female  18.0      1      0  227.5250        C      1   \n",
       "338       3    male  45.0      0      0    8.0500        S      1   \n",
       "483       3  female  63.0      0      0    9.5875        S      1   \n",
       "573       3  female  28.0      0      0    7.7500        Q      1   \n",
       "103       3    male  33.0      0      0    8.6542        S      0   \n",
       "362       3  female  45.0      0      1   14.4542        C      0   \n",
       "444       3    male  28.0      0      0    8.1125        S      1   \n",
       "323       2  female  22.0      1      1   29.0000        S      1   \n",
       "625       1    male  61.0      0      0   32.3208        S      0   \n",
       "655       2    male  24.0      2      0   73.5000        S      0   \n",
       "209       1    male  40.0      0      0   31.0000        C      1   \n",
       "565       3    male  24.0      2      0   24.1500        S      0   \n",
       "488       3    male  30.0      0      0    8.0500        S      0   \n",
       "453       1    male  49.0      1      0   89.1042        C      1   \n",
       "886       2    male  27.0      0      0   13.0000        S      0   \n",
       "533       3  female  28.0      0      2   22.3583        C      1   \n",
       "\n",
       "     clasificacion  cls_correcta  \n",
       "101              0          True  \n",
       "747              1          True  \n",
       "75               0          True  \n",
       "870              0          True  \n",
       "700              1          True  \n",
       "338              0         False  \n",
       "483              1          True  \n",
       "573              1          True  \n",
       "103              0          True  \n",
       "362              1         False  \n",
       "444              0         False  \n",
       "323              1          True  \n",
       "625              0          True  \n",
       "655              0          True  \n",
       "209              0         False  \n",
       "565              0          True  \n",
       "488              0          True  \n",
       "453              0         False  \n",
       "886              0          True  \n",
       "533              1          True  "
      ]
     },
     "execution_count": 268,
     "metadata": {},
     "output_type": "execute_result"
    }
   ],
   "source": [
    "df_prueba"
   ]
  },
  {
   "cell_type": "markdown",
   "metadata": {},
   "source": [
    "# Arboles de Clasificacion con Sklearn"
   ]
  },
  {
   "cell_type": "markdown",
   "metadata": {},
   "source": [
    "## Iris-DataSet con Sklearn"
   ]
  },
  {
   "cell_type": "code",
   "execution_count": 347,
   "metadata": {},
   "outputs": [],
   "source": [
    "from sklearn import tree\n",
    "# Librerias necesarias para generar imagen del arbol\n",
    "from IPython.display import Image as PImage\n",
    "from subprocess import check_call\n",
    "from PIL import Image, ImageDraw, ImageFont"
   ]
  },
  {
   "cell_type": "code",
   "execution_count": 348,
   "metadata": {},
   "outputs": [],
   "source": [
    "df_entrenamiento, df_prueba = entrenamiento_prueba_split(df, tamanio_prueba=0.2)"
   ]
  },
  {
   "cell_type": "code",
   "execution_count": 349,
   "metadata": {},
   "outputs": [],
   "source": [
    "y = df_entrenamiento.values[:,-1]\n",
    "X = df_entrenamiento.drop('label', axis=1).values\n",
    "\n",
    "y_prueba = df_prueba.values[:,-1]\n",
    "X_prueba = df_prueba.drop('label', axis=1).values\n",
    "\n",
    "clf = tree.DecisionTreeClassifier(max_depth=3)\n",
    "clf = clf.fit(X,y)\n",
    "\n",
    "columnas = df_entrenamiento.columns[:-1]\n",
    "clases = np.unique(df_entrenamiento.values[:,-1])"
   ]
  },
  {
   "cell_type": "code",
   "execution_count": 350,
   "metadata": {},
   "outputs": [
    {
     "data": {
      "image/png": "[encoded data removed]",
      "text/plain": [
       "<IPython.core.display.Image object>"
      ]
     },
     "execution_count": 350,
     "metadata": {},
     "output_type": "execute_result"
    }
   ],
   "source": [
    "with open(r\"iris-tree.dot\",'w') as f:\n",
    "    f = tree.export_graphviz(clf, out_file=f, feature_names=columnas, class_names=clases, impurity=True, rounded=True, filled=True)\n",
    "    \n",
    "os.environ[\"PATH\"] += os.pathsep + 'C:/Program Files (x86)/Graphviz2.38/bin/'\n",
    "check_call(['dot','-Tpng',r'iris-tree.dot','-o',r'iris-tree.png'])\n",
    "PImage(\"iris-tree.png\")"
   ]
  },
  {
   "cell_type": "code",
   "execution_count": 351,
   "metadata": {},
   "outputs": [
    {
     "data": {
      "text/plain": [
       "0.9666666666666667"
      ]
     },
     "execution_count": 351,
     "metadata": {},
     "output_type": "execute_result"
    }
   ],
   "source": [
    "clf.score(X_prueba,y_prueba)"
   ]
  },
  {
   "cell_type": "code",
   "execution_count": 352,
   "metadata": {},
   "outputs": [
    {
     "data": {
      "text/html": [
       "<div>\n",
       "<style scoped>\n",
       "    .dataframe tbody tr th:only-of-type {\n",
       "        vertical-align: middle;\n",
       "    }\n",
       "\n",
       "    .dataframe tbody tr th {\n",
       "        vertical-align: top;\n",
       "    }\n",
       "\n",
       "    .dataframe thead th {\n",
       "        text-align: right;\n",
       "    }\n",
       "</style>\n",
       "<table border=\"1\" class=\"dataframe\">\n",
       "  <thead>\n",
       "    <tr style=\"text-align: right;\">\n",
       "      <th></th>\n",
       "      <th>sepal_length</th>\n",
       "      <th>sepal_width</th>\n",
       "      <th>petal_length</th>\n",
       "      <th>petal_width</th>\n",
       "      <th>label</th>\n",
       "      <th>cls-sklearn</th>\n",
       "      <th>cls-correcta</th>\n",
       "    </tr>\n",
       "  </thead>\n",
       "  <tbody>\n",
       "    <tr>\n",
       "      <th>5</th>\n",
       "      <td>5.4</td>\n",
       "      <td>3.9</td>\n",
       "      <td>1.7</td>\n",
       "      <td>0.4</td>\n",
       "      <td>Iris-setosa</td>\n",
       "      <td>Iris-setosa</td>\n",
       "      <td>True</td>\n",
       "    </tr>\n",
       "    <tr>\n",
       "      <th>100</th>\n",
       "      <td>6.3</td>\n",
       "      <td>3.3</td>\n",
       "      <td>6.0</td>\n",
       "      <td>2.5</td>\n",
       "      <td>Iris-virginica</td>\n",
       "      <td>Iris-virginica</td>\n",
       "      <td>True</td>\n",
       "    </tr>\n",
       "    <tr>\n",
       "      <th>19</th>\n",
       "      <td>5.1</td>\n",
       "      <td>3.8</td>\n",
       "      <td>1.5</td>\n",
       "      <td>0.3</td>\n",
       "      <td>Iris-setosa</td>\n",
       "      <td>Iris-setosa</td>\n",
       "      <td>True</td>\n",
       "    </tr>\n",
       "    <tr>\n",
       "      <th>18</th>\n",
       "      <td>5.7</td>\n",
       "      <td>3.8</td>\n",
       "      <td>1.7</td>\n",
       "      <td>0.3</td>\n",
       "      <td>Iris-setosa</td>\n",
       "      <td>Iris-setosa</td>\n",
       "      <td>True</td>\n",
       "    </tr>\n",
       "    <tr>\n",
       "      <th>33</th>\n",
       "      <td>5.5</td>\n",
       "      <td>4.2</td>\n",
       "      <td>1.4</td>\n",
       "      <td>0.2</td>\n",
       "      <td>Iris-setosa</td>\n",
       "      <td>Iris-setosa</td>\n",
       "      <td>True</td>\n",
       "    </tr>\n",
       "    <tr>\n",
       "      <th>107</th>\n",
       "      <td>7.3</td>\n",
       "      <td>2.9</td>\n",
       "      <td>6.3</td>\n",
       "      <td>1.8</td>\n",
       "      <td>Iris-virginica</td>\n",
       "      <td>Iris-virginica</td>\n",
       "      <td>True</td>\n",
       "    </tr>\n",
       "    <tr>\n",
       "      <th>76</th>\n",
       "      <td>6.8</td>\n",
       "      <td>2.8</td>\n",
       "      <td>4.8</td>\n",
       "      <td>1.4</td>\n",
       "      <td>Iris-versicolor</td>\n",
       "      <td>Iris-versicolor</td>\n",
       "      <td>True</td>\n",
       "    </tr>\n",
       "    <tr>\n",
       "      <th>140</th>\n",
       "      <td>6.7</td>\n",
       "      <td>3.1</td>\n",
       "      <td>5.6</td>\n",
       "      <td>2.4</td>\n",
       "      <td>Iris-virginica</td>\n",
       "      <td>Iris-virginica</td>\n",
       "      <td>True</td>\n",
       "    </tr>\n",
       "    <tr>\n",
       "      <th>106</th>\n",
       "      <td>4.9</td>\n",
       "      <td>2.5</td>\n",
       "      <td>4.5</td>\n",
       "      <td>1.7</td>\n",
       "      <td>Iris-virginica</td>\n",
       "      <td>Iris-versicolor</td>\n",
       "      <td>False</td>\n",
       "    </tr>\n",
       "    <tr>\n",
       "      <th>36</th>\n",
       "      <td>5.5</td>\n",
       "      <td>3.5</td>\n",
       "      <td>1.3</td>\n",
       "      <td>0.2</td>\n",
       "      <td>Iris-setosa</td>\n",
       "      <td>Iris-setosa</td>\n",
       "      <td>True</td>\n",
       "    </tr>\n",
       "    <tr>\n",
       "      <th>108</th>\n",
       "      <td>6.7</td>\n",
       "      <td>2.5</td>\n",
       "      <td>5.8</td>\n",
       "      <td>1.8</td>\n",
       "      <td>Iris-virginica</td>\n",
       "      <td>Iris-virginica</td>\n",
       "      <td>True</td>\n",
       "    </tr>\n",
       "    <tr>\n",
       "      <th>143</th>\n",
       "      <td>6.8</td>\n",
       "      <td>3.2</td>\n",
       "      <td>5.9</td>\n",
       "      <td>2.3</td>\n",
       "      <td>Iris-virginica</td>\n",
       "      <td>Iris-virginica</td>\n",
       "      <td>True</td>\n",
       "    </tr>\n",
       "    <tr>\n",
       "      <th>90</th>\n",
       "      <td>5.5</td>\n",
       "      <td>2.6</td>\n",
       "      <td>4.4</td>\n",
       "      <td>1.2</td>\n",
       "      <td>Iris-versicolor</td>\n",
       "      <td>Iris-versicolor</td>\n",
       "      <td>True</td>\n",
       "    </tr>\n",
       "    <tr>\n",
       "      <th>21</th>\n",
       "      <td>5.1</td>\n",
       "      <td>3.7</td>\n",
       "      <td>1.5</td>\n",
       "      <td>0.4</td>\n",
       "      <td>Iris-setosa</td>\n",
       "      <td>Iris-setosa</td>\n",
       "      <td>True</td>\n",
       "    </tr>\n",
       "    <tr>\n",
       "      <th>63</th>\n",
       "      <td>6.1</td>\n",
       "      <td>2.9</td>\n",
       "      <td>4.7</td>\n",
       "      <td>1.4</td>\n",
       "      <td>Iris-versicolor</td>\n",
       "      <td>Iris-versicolor</td>\n",
       "      <td>True</td>\n",
       "    </tr>\n",
       "    <tr>\n",
       "      <th>113</th>\n",
       "      <td>5.7</td>\n",
       "      <td>2.5</td>\n",
       "      <td>5.0</td>\n",
       "      <td>2.0</td>\n",
       "      <td>Iris-virginica</td>\n",
       "      <td>Iris-virginica</td>\n",
       "      <td>True</td>\n",
       "    </tr>\n",
       "    <tr>\n",
       "      <th>94</th>\n",
       "      <td>5.6</td>\n",
       "      <td>2.7</td>\n",
       "      <td>4.2</td>\n",
       "      <td>1.3</td>\n",
       "      <td>Iris-versicolor</td>\n",
       "      <td>Iris-versicolor</td>\n",
       "      <td>True</td>\n",
       "    </tr>\n",
       "    <tr>\n",
       "      <th>14</th>\n",
       "      <td>5.8</td>\n",
       "      <td>4.0</td>\n",
       "      <td>1.2</td>\n",
       "      <td>0.2</td>\n",
       "      <td>Iris-setosa</td>\n",
       "      <td>Iris-setosa</td>\n",
       "      <td>True</td>\n",
       "    </tr>\n",
       "    <tr>\n",
       "      <th>96</th>\n",
       "      <td>5.7</td>\n",
       "      <td>2.9</td>\n",
       "      <td>4.2</td>\n",
       "      <td>1.3</td>\n",
       "      <td>Iris-versicolor</td>\n",
       "      <td>Iris-versicolor</td>\n",
       "      <td>True</td>\n",
       "    </tr>\n",
       "    <tr>\n",
       "      <th>104</th>\n",
       "      <td>6.5</td>\n",
       "      <td>3.0</td>\n",
       "      <td>5.8</td>\n",
       "      <td>2.2</td>\n",
       "      <td>Iris-virginica</td>\n",
       "      <td>Iris-virginica</td>\n",
       "      <td>True</td>\n",
       "    </tr>\n",
       "    <tr>\n",
       "      <th>2</th>\n",
       "      <td>4.7</td>\n",
       "      <td>3.2</td>\n",
       "      <td>1.3</td>\n",
       "      <td>0.2</td>\n",
       "      <td>Iris-setosa</td>\n",
       "      <td>Iris-setosa</td>\n",
       "      <td>True</td>\n",
       "    </tr>\n",
       "    <tr>\n",
       "      <th>141</th>\n",
       "      <td>6.9</td>\n",
       "      <td>3.1</td>\n",
       "      <td>5.1</td>\n",
       "      <td>2.3</td>\n",
       "      <td>Iris-virginica</td>\n",
       "      <td>Iris-virginica</td>\n",
       "      <td>True</td>\n",
       "    </tr>\n",
       "    <tr>\n",
       "      <th>82</th>\n",
       "      <td>5.8</td>\n",
       "      <td>2.7</td>\n",
       "      <td>3.9</td>\n",
       "      <td>1.2</td>\n",
       "      <td>Iris-versicolor</td>\n",
       "      <td>Iris-versicolor</td>\n",
       "      <td>True</td>\n",
       "    </tr>\n",
       "    <tr>\n",
       "      <th>56</th>\n",
       "      <td>6.3</td>\n",
       "      <td>3.3</td>\n",
       "      <td>4.7</td>\n",
       "      <td>1.6</td>\n",
       "      <td>Iris-versicolor</td>\n",
       "      <td>Iris-versicolor</td>\n",
       "      <td>True</td>\n",
       "    </tr>\n",
       "    <tr>\n",
       "      <th>26</th>\n",
       "      <td>5.0</td>\n",
       "      <td>3.4</td>\n",
       "      <td>1.6</td>\n",
       "      <td>0.4</td>\n",
       "      <td>Iris-setosa</td>\n",
       "      <td>Iris-setosa</td>\n",
       "      <td>True</td>\n",
       "    </tr>\n",
       "    <tr>\n",
       "      <th>47</th>\n",
       "      <td>4.6</td>\n",
       "      <td>3.2</td>\n",
       "      <td>1.4</td>\n",
       "      <td>0.2</td>\n",
       "      <td>Iris-setosa</td>\n",
       "      <td>Iris-setosa</td>\n",
       "      <td>True</td>\n",
       "    </tr>\n",
       "    <tr>\n",
       "      <th>37</th>\n",
       "      <td>4.9</td>\n",
       "      <td>3.1</td>\n",
       "      <td>1.5</td>\n",
       "      <td>0.1</td>\n",
       "      <td>Iris-setosa</td>\n",
       "      <td>Iris-setosa</td>\n",
       "      <td>True</td>\n",
       "    </tr>\n",
       "    <tr>\n",
       "      <th>121</th>\n",
       "      <td>5.6</td>\n",
       "      <td>2.8</td>\n",
       "      <td>4.9</td>\n",
       "      <td>2.0</td>\n",
       "      <td>Iris-virginica</td>\n",
       "      <td>Iris-virginica</td>\n",
       "      <td>True</td>\n",
       "    </tr>\n",
       "    <tr>\n",
       "      <th>60</th>\n",
       "      <td>5.0</td>\n",
       "      <td>2.0</td>\n",
       "      <td>3.5</td>\n",
       "      <td>1.0</td>\n",
       "      <td>Iris-versicolor</td>\n",
       "      <td>Iris-versicolor</td>\n",
       "      <td>True</td>\n",
       "    </tr>\n",
       "    <tr>\n",
       "      <th>11</th>\n",
       "      <td>4.8</td>\n",
       "      <td>3.4</td>\n",
       "      <td>1.6</td>\n",
       "      <td>0.2</td>\n",
       "      <td>Iris-setosa</td>\n",
       "      <td>Iris-setosa</td>\n",
       "      <td>True</td>\n",
       "    </tr>\n",
       "  </tbody>\n",
       "</table>\n",
       "</div>"
      ],
      "text/plain": [
       "     sepal_length  sepal_width  petal_length  petal_width            label  \\\n",
       "5             5.4          3.9           1.7          0.4      Iris-setosa   \n",
       "100           6.3          3.3           6.0          2.5   Iris-virginica   \n",
       "19            5.1          3.8           1.5          0.3      Iris-setosa   \n",
       "18            5.7          3.8           1.7          0.3      Iris-setosa   \n",
       "33            5.5          4.2           1.4          0.2      Iris-setosa   \n",
       "107           7.3          2.9           6.3          1.8   Iris-virginica   \n",
       "76            6.8          2.8           4.8          1.4  Iris-versicolor   \n",
       "140           6.7          3.1           5.6          2.4   Iris-virginica   \n",
       "106           4.9          2.5           4.5          1.7   Iris-virginica   \n",
       "36            5.5          3.5           1.3          0.2      Iris-setosa   \n",
       "108           6.7          2.5           5.8          1.8   Iris-virginica   \n",
       "143           6.8          3.2           5.9          2.3   Iris-virginica   \n",
       "90            5.5          2.6           4.4          1.2  Iris-versicolor   \n",
       "21            5.1          3.7           1.5          0.4      Iris-setosa   \n",
       "63            6.1          2.9           4.7          1.4  Iris-versicolor   \n",
       "113           5.7          2.5           5.0          2.0   Iris-virginica   \n",
       "94            5.6          2.7           4.2          1.3  Iris-versicolor   \n",
       "14            5.8          4.0           1.2          0.2      Iris-setosa   \n",
       "96            5.7          2.9           4.2          1.3  Iris-versicolor   \n",
       "104           6.5          3.0           5.8          2.2   Iris-virginica   \n",
       "2             4.7          3.2           1.3          0.2      Iris-setosa   \n",
       "141           6.9          3.1           5.1          2.3   Iris-virginica   \n",
       "82            5.8          2.7           3.9          1.2  Iris-versicolor   \n",
       "56            6.3          3.3           4.7          1.6  Iris-versicolor   \n",
       "26            5.0          3.4           1.6          0.4      Iris-setosa   \n",
       "47            4.6          3.2           1.4          0.2      Iris-setosa   \n",
       "37            4.9          3.1           1.5          0.1      Iris-setosa   \n",
       "121           5.6          2.8           4.9          2.0   Iris-virginica   \n",
       "60            5.0          2.0           3.5          1.0  Iris-versicolor   \n",
       "11            4.8          3.4           1.6          0.2      Iris-setosa   \n",
       "\n",
       "         cls-sklearn  cls-correcta  \n",
       "5        Iris-setosa          True  \n",
       "100   Iris-virginica          True  \n",
       "19       Iris-setosa          True  \n",
       "18       Iris-setosa          True  \n",
       "33       Iris-setosa          True  \n",
       "107   Iris-virginica          True  \n",
       "76   Iris-versicolor          True  \n",
       "140   Iris-virginica          True  \n",
       "106  Iris-versicolor         False  \n",
       "36       Iris-setosa          True  \n",
       "108   Iris-virginica          True  \n",
       "143   Iris-virginica          True  \n",
       "90   Iris-versicolor          True  \n",
       "21       Iris-setosa          True  \n",
       "63   Iris-versicolor          True  \n",
       "113   Iris-virginica          True  \n",
       "94   Iris-versicolor          True  \n",
       "14       Iris-setosa          True  \n",
       "96   Iris-versicolor          True  \n",
       "104   Iris-virginica          True  \n",
       "2        Iris-setosa          True  \n",
       "141   Iris-virginica          True  \n",
       "82   Iris-versicolor          True  \n",
       "56   Iris-versicolor          True  \n",
       "26       Iris-setosa          True  \n",
       "47       Iris-setosa          True  \n",
       "37       Iris-setosa          True  \n",
       "121   Iris-virginica          True  \n",
       "60   Iris-versicolor          True  \n",
       "11       Iris-setosa          True  "
      ]
     },
     "execution_count": 352,
     "metadata": {},
     "output_type": "execute_result"
    }
   ],
   "source": [
    "df_prueba['cls-sklearn'] = clf.predict(X_prueba)\n",
    "df_prueba['cls-correcta'] = df_prueba['label'] == df_prueba['cls-sklearn'] \n",
    "df_prueba"
   ]
  },
  {
   "cell_type": "code",
   "execution_count": null,
   "metadata": {},
   "outputs": [],
   "source": []
  }
 ],
 "metadata": {
  "kernelspec": {
   "display_name": "Python 3",
   "language": "python",
   "name": "python3"
  },
  "language_info": {
   "codemirror_mode": {
    "name": "ipython",
    "version": 3
   },
   "file_extension": ".py",
   "mimetype": "text/x-python",
   "name": "python",
   "nbconvert_exporter": "python",
   "pygments_lexer": "ipython3",
   "version": "3.8.1"
  }
 },
 "nbformat": 4,
 "nbformat_minor": 4
}
